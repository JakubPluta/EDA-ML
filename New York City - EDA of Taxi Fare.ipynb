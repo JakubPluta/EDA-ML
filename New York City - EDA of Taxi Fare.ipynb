{
 "cells": [
  {
   "cell_type": "code",
   "execution_count": 68,
   "metadata": {},
   "outputs": [],
   "source": [
    "import pandas as pd\n",
    "import matplotlib.pyplot as plt\n",
    "import seaborn as sns\n",
    "import numpy as np\n",
    "import warnings\n",
    "import calendar\n",
    "from datetime import datetime\n",
    "import os\n",
    "pd.options.display.float_format = \"{:.2f}\".format\n",
    "#from tqdm import tqdm\n",
    "from matplotlib import cm"
   ]
  },
  {
   "cell_type": "code",
   "execution_count": 2,
   "metadata": {},
   "outputs": [],
   "source": [
    "def group_by_fare(x):\n",
    "    if x >= 2 and x < 50:\n",
    "        return '2-50'\n",
    "    elif x < 100:\n",
    "        return '51-100'\n",
    "    elif x < 200:\n",
    "        return '101-200'\n",
    "    else:\n",
    "        return '>200'"
   ]
  },
  {
   "cell_type": "code",
   "execution_count": 3,
   "metadata": {},
   "outputs": [],
   "source": [
    "train = pd.read_csv(r'D:\\PycharmProjects\\TaxiPrediction\\train.csv',nrows = 1000000,parse_dates=['pickup_datetime'])"
   ]
  },
  {
   "cell_type": "code",
   "execution_count": 4,
   "metadata": {},
   "outputs": [
    {
     "data": {
      "text/html": [
       "<div>\n",
       "<style scoped>\n",
       "    .dataframe tbody tr th:only-of-type {\n",
       "        vertical-align: middle;\n",
       "    }\n",
       "\n",
       "    .dataframe tbody tr th {\n",
       "        vertical-align: top;\n",
       "    }\n",
       "\n",
       "    .dataframe thead th {\n",
       "        text-align: right;\n",
       "    }\n",
       "</style>\n",
       "<table border=\"1\" class=\"dataframe\">\n",
       "  <thead>\n",
       "    <tr style=\"text-align: right;\">\n",
       "      <th></th>\n",
       "      <th>key</th>\n",
       "      <th>fare_amount</th>\n",
       "      <th>pickup_datetime</th>\n",
       "      <th>pickup_longitude</th>\n",
       "      <th>pickup_latitude</th>\n",
       "      <th>dropoff_longitude</th>\n",
       "      <th>dropoff_latitude</th>\n",
       "      <th>passenger_count</th>\n",
       "    </tr>\n",
       "  </thead>\n",
       "  <tbody>\n",
       "    <tr>\n",
       "      <th>0</th>\n",
       "      <td>2009-06-15 17:26:21.0000001</td>\n",
       "      <td>4.50</td>\n",
       "      <td>2009-06-15 17:26:21+00:00</td>\n",
       "      <td>-73.84</td>\n",
       "      <td>40.72</td>\n",
       "      <td>-73.84</td>\n",
       "      <td>40.71</td>\n",
       "      <td>1</td>\n",
       "    </tr>\n",
       "    <tr>\n",
       "      <th>1</th>\n",
       "      <td>2010-01-05 16:52:16.0000002</td>\n",
       "      <td>16.90</td>\n",
       "      <td>2010-01-05 16:52:16+00:00</td>\n",
       "      <td>-74.02</td>\n",
       "      <td>40.71</td>\n",
       "      <td>-73.98</td>\n",
       "      <td>40.78</td>\n",
       "      <td>1</td>\n",
       "    </tr>\n",
       "    <tr>\n",
       "      <th>2</th>\n",
       "      <td>2011-08-18 00:35:00.00000049</td>\n",
       "      <td>5.70</td>\n",
       "      <td>2011-08-18 00:35:00+00:00</td>\n",
       "      <td>-73.98</td>\n",
       "      <td>40.76</td>\n",
       "      <td>-73.99</td>\n",
       "      <td>40.75</td>\n",
       "      <td>2</td>\n",
       "    </tr>\n",
       "    <tr>\n",
       "      <th>3</th>\n",
       "      <td>2012-04-21 04:30:42.0000001</td>\n",
       "      <td>7.70</td>\n",
       "      <td>2012-04-21 04:30:42+00:00</td>\n",
       "      <td>-73.99</td>\n",
       "      <td>40.73</td>\n",
       "      <td>-73.99</td>\n",
       "      <td>40.76</td>\n",
       "      <td>1</td>\n",
       "    </tr>\n",
       "    <tr>\n",
       "      <th>4</th>\n",
       "      <td>2010-03-09 07:51:00.000000135</td>\n",
       "      <td>5.30</td>\n",
       "      <td>2010-03-09 07:51:00+00:00</td>\n",
       "      <td>-73.97</td>\n",
       "      <td>40.77</td>\n",
       "      <td>-73.96</td>\n",
       "      <td>40.78</td>\n",
       "      <td>1</td>\n",
       "    </tr>\n",
       "  </tbody>\n",
       "</table>\n",
       "</div>"
      ],
      "text/plain": [
       "                             key  fare_amount           pickup_datetime  \\\n",
       "0    2009-06-15 17:26:21.0000001         4.50 2009-06-15 17:26:21+00:00   \n",
       "1    2010-01-05 16:52:16.0000002        16.90 2010-01-05 16:52:16+00:00   \n",
       "2   2011-08-18 00:35:00.00000049         5.70 2011-08-18 00:35:00+00:00   \n",
       "3    2012-04-21 04:30:42.0000001         7.70 2012-04-21 04:30:42+00:00   \n",
       "4  2010-03-09 07:51:00.000000135         5.30 2010-03-09 07:51:00+00:00   \n",
       "\n",
       "   pickup_longitude  pickup_latitude  dropoff_longitude  dropoff_latitude  \\\n",
       "0            -73.84            40.72             -73.84             40.71   \n",
       "1            -74.02            40.71             -73.98             40.78   \n",
       "2            -73.98            40.76             -73.99             40.75   \n",
       "3            -73.99            40.73             -73.99             40.76   \n",
       "4            -73.97            40.77             -73.96             40.78   \n",
       "\n",
       "   passenger_count  \n",
       "0                1  \n",
       "1                1  \n",
       "2                2  \n",
       "3                1  \n",
       "4                1  "
      ]
     },
     "execution_count": 4,
     "metadata": {},
     "output_type": "execute_result"
    }
   ],
   "source": [
    "train.head()"
   ]
  },
  {
   "cell_type": "markdown",
   "metadata": {},
   "source": [
    "__Features__\n",
    "* pickup_datetime - timestamp value indicating when the taxi ride started.\n",
    "* pickup_longitude - float for longitude coordinate of where the taxi ride started.\n",
    "* pickup_latitude - float for latitude coordinate of where the taxi ride started.\n",
    "* dropoff_longitude - float for longitude coordinate of where the taxi ride ended.\n",
    "* dropoff_latitude - float for latitude coordinate of where the taxi ride ended.\n",
    "* passenger_count - integer indicating the number of passengers in the taxi ride.\n",
    "\n",
    "__Target__\n",
    "* fare_amount - float dollar amount of the cost of the taxi ride. This value is only in the training set; this is what you are predicting in the test set and it is required in your submission CSV."
   ]
  },
  {
   "cell_type": "markdown",
   "metadata": {},
   "source": [
    "__I will analyse only 1kk sample of data (Size of whole data is 55kk)__"
   ]
  },
  {
   "cell_type": "code",
   "execution_count": 5,
   "metadata": {},
   "outputs": [
    {
     "data": {
      "text/plain": [
       "(1000000, 8)"
      ]
     },
     "execution_count": 5,
     "metadata": {},
     "output_type": "execute_result"
    }
   ],
   "source": [
    "train.shape"
   ]
  },
  {
   "cell_type": "code",
   "execution_count": 6,
   "metadata": {},
   "outputs": [
    {
     "data": {
      "text/html": [
       "<div>\n",
       "<style scoped>\n",
       "    .dataframe tbody tr th:only-of-type {\n",
       "        vertical-align: middle;\n",
       "    }\n",
       "\n",
       "    .dataframe tbody tr th {\n",
       "        vertical-align: top;\n",
       "    }\n",
       "\n",
       "    .dataframe thead th {\n",
       "        text-align: right;\n",
       "    }\n",
       "</style>\n",
       "<table border=\"1\" class=\"dataframe\">\n",
       "  <thead>\n",
       "    <tr style=\"text-align: right;\">\n",
       "      <th></th>\n",
       "      <th>fare_amount</th>\n",
       "      <th>pickup_longitude</th>\n",
       "      <th>pickup_latitude</th>\n",
       "      <th>dropoff_longitude</th>\n",
       "      <th>dropoff_latitude</th>\n",
       "      <th>passenger_count</th>\n",
       "    </tr>\n",
       "  </thead>\n",
       "  <tbody>\n",
       "    <tr>\n",
       "      <th>count</th>\n",
       "      <td>1000000.00</td>\n",
       "      <td>1000000.00</td>\n",
       "      <td>1000000.00</td>\n",
       "      <td>999990.00</td>\n",
       "      <td>999990.00</td>\n",
       "      <td>1000000.00</td>\n",
       "    </tr>\n",
       "    <tr>\n",
       "      <th>mean</th>\n",
       "      <td>11.35</td>\n",
       "      <td>-72.53</td>\n",
       "      <td>39.93</td>\n",
       "      <td>-72.53</td>\n",
       "      <td>39.92</td>\n",
       "      <td>1.68</td>\n",
       "    </tr>\n",
       "    <tr>\n",
       "      <th>std</th>\n",
       "      <td>9.82</td>\n",
       "      <td>12.06</td>\n",
       "      <td>7.63</td>\n",
       "      <td>11.32</td>\n",
       "      <td>8.20</td>\n",
       "      <td>1.32</td>\n",
       "    </tr>\n",
       "    <tr>\n",
       "      <th>min</th>\n",
       "      <td>-44.90</td>\n",
       "      <td>-3377.68</td>\n",
       "      <td>-3116.29</td>\n",
       "      <td>-3383.30</td>\n",
       "      <td>-3114.34</td>\n",
       "      <td>0.00</td>\n",
       "    </tr>\n",
       "    <tr>\n",
       "      <th>25%</th>\n",
       "      <td>6.00</td>\n",
       "      <td>-73.99</td>\n",
       "      <td>40.73</td>\n",
       "      <td>-73.99</td>\n",
       "      <td>40.73</td>\n",
       "      <td>1.00</td>\n",
       "    </tr>\n",
       "    <tr>\n",
       "      <th>50%</th>\n",
       "      <td>8.50</td>\n",
       "      <td>-73.98</td>\n",
       "      <td>40.75</td>\n",
       "      <td>-73.98</td>\n",
       "      <td>40.75</td>\n",
       "      <td>1.00</td>\n",
       "    </tr>\n",
       "    <tr>\n",
       "      <th>75%</th>\n",
       "      <td>12.50</td>\n",
       "      <td>-73.97</td>\n",
       "      <td>40.77</td>\n",
       "      <td>-73.96</td>\n",
       "      <td>40.77</td>\n",
       "      <td>2.00</td>\n",
       "    </tr>\n",
       "    <tr>\n",
       "      <th>max</th>\n",
       "      <td>500.00</td>\n",
       "      <td>2522.27</td>\n",
       "      <td>2621.63</td>\n",
       "      <td>45.58</td>\n",
       "      <td>1651.55</td>\n",
       "      <td>208.00</td>\n",
       "    </tr>\n",
       "  </tbody>\n",
       "</table>\n",
       "</div>"
      ],
      "text/plain": [
       "       fare_amount  pickup_longitude  pickup_latitude  dropoff_longitude  \\\n",
       "count   1000000.00        1000000.00       1000000.00          999990.00   \n",
       "mean         11.35            -72.53            39.93             -72.53   \n",
       "std           9.82             12.06             7.63              11.32   \n",
       "min         -44.90          -3377.68         -3116.29           -3383.30   \n",
       "25%           6.00            -73.99            40.73             -73.99   \n",
       "50%           8.50            -73.98            40.75             -73.98   \n",
       "75%          12.50            -73.97            40.77             -73.96   \n",
       "max         500.00           2522.27          2621.63              45.58   \n",
       "\n",
       "       dropoff_latitude  passenger_count  \n",
       "count         999990.00       1000000.00  \n",
       "mean              39.92             1.68  \n",
       "std                8.20             1.32  \n",
       "min            -3114.34             0.00  \n",
       "25%               40.73             1.00  \n",
       "50%               40.75             1.00  \n",
       "75%               40.77             2.00  \n",
       "max             1651.55           208.00  "
      ]
     },
     "execution_count": 6,
     "metadata": {},
     "output_type": "execute_result"
    }
   ],
   "source": [
    "train.describe()"
   ]
  },
  {
   "cell_type": "markdown",
   "metadata": {},
   "source": [
    "__Let's look on description of out 1kk sample__\n",
    "* We can see that mean fare amount is: __11.35__\n",
    "* Minimal fare amount is: __-44.90__ - so it's negative fare amount is impossible. We should drop outliers\n",
    "* Maximum Fare amount is: __500__ \n",
    "* Standard deviation is:  __9.82__\n",
    "* Min number of passangers in taxi raid: __0__ - > we need to check it\n",
    "* Average number of passangers in taxi raid: __1.68__ "
   ]
  },
  {
   "cell_type": "code",
   "execution_count": 7,
   "metadata": {},
   "outputs": [
    {
     "data": {
      "text/html": [
       "<div>\n",
       "<style scoped>\n",
       "    .dataframe tbody tr th:only-of-type {\n",
       "        vertical-align: middle;\n",
       "    }\n",
       "\n",
       "    .dataframe tbody tr th {\n",
       "        vertical-align: top;\n",
       "    }\n",
       "\n",
       "    .dataframe thead th {\n",
       "        text-align: right;\n",
       "    }\n",
       "</style>\n",
       "<table border=\"1\" class=\"dataframe\">\n",
       "  <thead>\n",
       "    <tr style=\"text-align: right;\">\n",
       "      <th></th>\n",
       "      <th>key</th>\n",
       "      <th>fare_amount</th>\n",
       "      <th>pickup_datetime</th>\n",
       "      <th>pickup_longitude</th>\n",
       "      <th>pickup_latitude</th>\n",
       "      <th>dropoff_longitude</th>\n",
       "      <th>dropoff_latitude</th>\n",
       "      <th>passenger_count</th>\n",
       "    </tr>\n",
       "  </thead>\n",
       "  <tbody>\n",
       "    <tr>\n",
       "      <th>0</th>\n",
       "      <td>0</td>\n",
       "      <td>0</td>\n",
       "      <td>0</td>\n",
       "      <td>0</td>\n",
       "      <td>0</td>\n",
       "      <td>10</td>\n",
       "      <td>10</td>\n",
       "      <td>0</td>\n",
       "    </tr>\n",
       "  </tbody>\n",
       "</table>\n",
       "</div>"
      ],
      "text/plain": [
       "   key  fare_amount  pickup_datetime  pickup_longitude  pickup_latitude  \\\n",
       "0    0            0                0                 0                0   \n",
       "\n",
       "   dropoff_longitude  dropoff_latitude  passenger_count  \n",
       "0                 10                10                0  "
      ]
     },
     "execution_count": 7,
     "metadata": {},
     "output_type": "execute_result"
    }
   ],
   "source": [
    "train.isnull().sum().to_frame().T"
   ]
  },
  {
   "cell_type": "code",
   "execution_count": 8,
   "metadata": {},
   "outputs": [
    {
     "data": {
      "text/plain": [
       "1      691344\n",
       "2      148105\n",
       "5       70595\n",
       "3       43765\n",
       "4       21429\n",
       "6       21196\n",
       "0        3565\n",
       "208         1\n",
       "Name: passenger_count, dtype: int64"
      ]
     },
     "execution_count": 8,
     "metadata": {},
     "output_type": "execute_result"
    }
   ],
   "source": [
    "train['passenger_count'].value_counts()"
   ]
  },
  {
   "cell_type": "code",
   "execution_count": 9,
   "metadata": {},
   "outputs": [],
   "source": [
    "train = train[(train['fare_amount']>=2) & (train['passenger_count']<208)]\n",
    "train = train.dropna()"
   ]
  },
  {
   "cell_type": "code",
   "execution_count": 10,
   "metadata": {},
   "outputs": [],
   "source": [
    "train['fare_group'] = train['fare_amount'].apply(lambda x: group_by_fare(x))"
   ]
  },
  {
   "cell_type": "code",
   "execution_count": 11,
   "metadata": {},
   "outputs": [
    {
     "data": {
      "text/plain": [
       "(999912, 9)"
      ]
     },
     "execution_count": 11,
     "metadata": {},
     "output_type": "execute_result"
    }
   ],
   "source": [
    "train.shape"
   ]
  },
  {
   "cell_type": "code",
   "execution_count": 54,
   "metadata": {},
   "outputs": [
    {
     "data": {
      "image/png": "[encoded data removed]",
      "text/plain": [
       "<Figure size 1080x432 with 2 Axes>"
      ]
     },
     "metadata": {
      "needs_background": "light"
     },
     "output_type": "display_data"
    }
   ],
   "source": [
    "f, (ax_box, ax_hist) = plt.subplots(2, sharex=True, figsize=(15,6),gridspec_kw={\"height_ratios\": (.35, .85)})\n",
    "c1 = sns.boxplot(train['fare_amount'], ax=ax_box,linewidth=0.6)\n",
    "c2 = train['fare_amount'].hist(bins=100,ax=ax_hist,grid=False);\n",
    "c1.set_xlabel('');\n",
    "c2.set_xlabel('Fare Amount');\n",
    "plt.suptitle('Fare Amount Distribution',fontsize=14);"
   ]
  },
  {
   "cell_type": "code",
   "execution_count": 23,
   "metadata": {},
   "outputs": [
    {
     "data": {
      "text/plain": [
       "['2-50', '51-100', '101-200', '>200']"
      ]
     },
     "execution_count": 23,
     "metadata": {},
     "output_type": "execute_result"
    }
   ],
   "source": [
    "fg = list(train['fare_group'].unique())\n",
    "fg"
   ]
  },
  {
   "cell_type": "code",
   "execution_count": 66,
   "metadata": {},
   "outputs": [
    {
     "data": {
      "image/png": "[encoded data removed]",
      "text/plain": [
       "<Figure size 1080x216 with 1 Axes>"
      ]
     },
     "metadata": {
      "needs_background": "light"
     },
     "output_type": "display_data"
    },
    {
     "data": {
      "image/png": "[encoded data removed]",
      "text/plain": [
       "<Figure size 1080x576 with 4 Axes>"
      ]
     },
     "metadata": {
      "needs_background": "light"
     },
     "output_type": "display_data"
    }
   ],
   "source": [
    "plt.figure(figsize=(15,3))\n",
    "s1 = sns.stripplot(y='fare_group',x='fare_amount',data = train,\n",
    "                   jitter=True, \n",
    "                   marker='o', \n",
    "                   alpha=0.12,\n",
    "                   color='#B5838D')\n",
    "sns.despine(left=True,bottom=True)\n",
    "f,ax = plt.subplots(2,2,figsize=(15,8))\n",
    "train[train['fare_group']==fg[0]]['fare_amount'].hist(color='#0B486B',grid=False,ax=ax[0][0],bins=48).set_title(f'Fare Amount Distribution in Group: [$ {fg[0]}]')\n",
    "train[train['fare_group']==fg[1]]['fare_amount'].hist(color='#B5838D',grid=False,ax=ax[0][1],bins=50).set_title(f'Fare Amount Distribution in Group: [$ {fg[1]}]')\n",
    "train[train['fare_group']==fg[2]]['fare_amount'].hist(color='#314A59',grid=False,ax=ax[1][0],bins=100).set_title(f'Fare Amount Distribution in Group: [$ {fg[2]}]')\n",
    "train[train['fare_group']==fg[3]]['fare_amount'].hist(color='#CFCFEA',grid=False,ax=ax[1][1],bins=300).set_title(f'Fare Amount Distribution in Group: [$ {fg[3]}]');"
   ]
  },
  {
   "cell_type": "code",
   "execution_count": 83,
   "metadata": {},
   "outputs": [],
   "source": [
    "f_pct = pd.DataFrame(train['fare_group'].value_counts()/sum(train['fare_group'].value_counts())*100)\n",
    "f_p = pd.DataFrame(train['fare_group'].value_counts())"
   ]
  },
  {
   "cell_type": "code",
   "execution_count": 94,
   "metadata": {},
   "outputs": [
    {
     "data": {
      "text/html": [
       "<div>\n",
       "<style scoped>\n",
       "    .dataframe tbody tr th:only-of-type {\n",
       "        vertical-align: middle;\n",
       "    }\n",
       "\n",
       "    .dataframe tbody tr th {\n",
       "        vertical-align: top;\n",
       "    }\n",
       "\n",
       "    .dataframe thead th {\n",
       "        text-align: right;\n",
       "    }\n",
       "</style>\n",
       "<table border=\"1\" class=\"dataframe\">\n",
       "  <thead>\n",
       "    <tr style=\"text-align: right;\">\n",
       "      <th></th>\n",
       "      <th>2-50</th>\n",
       "      <th>51-100</th>\n",
       "      <th>101-200</th>\n",
       "      <th>&gt;200</th>\n",
       "    </tr>\n",
       "  </thead>\n",
       "  <tbody>\n",
       "    <tr>\n",
       "      <th>count</th>\n",
       "      <td>986867.00</td>\n",
       "      <td>12610.00</td>\n",
       "      <td>389.00</td>\n",
       "      <td>46.00</td>\n",
       "    </tr>\n",
       "    <tr>\n",
       "      <th>pct%</th>\n",
       "      <td>98.70</td>\n",
       "      <td>1.26</td>\n",
       "      <td>0.04</td>\n",
       "      <td>0.00</td>\n",
       "    </tr>\n",
       "  </tbody>\n",
       "</table>\n",
       "</div>"
      ],
      "text/plain": [
       "           2-50   51-100  101-200  >200\n",
       "count 986867.00 12610.00   389.00 46.00\n",
       "pct%      98.70     1.26     0.04  0.00"
      ]
     },
     "execution_count": 94,
     "metadata": {},
     "output_type": "execute_result"
    }
   ],
   "source": [
    "f_grp = pd.concat([f_p,f_pct],axis=1)\n",
    "f_grp.columns=['count','pct%']\n",
    "f_grp.T"
   ]
  },
  {
   "cell_type": "code",
   "execution_count": 106,
   "metadata": {},
   "outputs": [
    {
     "data": {
      "text/html": [
       "<div>\n",
       "<style scoped>\n",
       "    .dataframe tbody tr th:only-of-type {\n",
       "        vertical-align: middle;\n",
       "    }\n",
       "\n",
       "    .dataframe tbody tr th {\n",
       "        vertical-align: top;\n",
       "    }\n",
       "\n",
       "    .dataframe thead th {\n",
       "        text-align: right;\n",
       "    }\n",
       "</style>\n",
       "<table border=\"1\" class=\"dataframe\">\n",
       "  <thead>\n",
       "    <tr style=\"text-align: right;\">\n",
       "      <th></th>\n",
       "      <th>count</th>\n",
       "      <th>mean</th>\n",
       "      <th>std</th>\n",
       "      <th>min</th>\n",
       "      <th>25%</th>\n",
       "      <th>50%</th>\n",
       "      <th>75%</th>\n",
       "      <th>max</th>\n",
       "    </tr>\n",
       "  </thead>\n",
       "  <tbody>\n",
       "    <tr>\n",
       "      <th>2-50</th>\n",
       "      <td>986867.00</td>\n",
       "      <td>10.69</td>\n",
       "      <td>7.70</td>\n",
       "      <td>2.50</td>\n",
       "      <td>6.00</td>\n",
       "      <td>8.50</td>\n",
       "      <td>12.50</td>\n",
       "      <td>49.90</td>\n",
       "    </tr>\n",
       "    <tr>\n",
       "      <th>51-100</th>\n",
       "      <td>12610.00</td>\n",
       "      <td>58.52</td>\n",
       "      <td>8.32</td>\n",
       "      <td>50.00</td>\n",
       "      <td>52.76</td>\n",
       "      <td>57.33</td>\n",
       "      <td>57.54</td>\n",
       "      <td>99.75</td>\n",
       "    </tr>\n",
       "    <tr>\n",
       "      <th>101-200</th>\n",
       "      <td>389.00</td>\n",
       "      <td>125.99</td>\n",
       "      <td>23.67</td>\n",
       "      <td>100.00</td>\n",
       "      <td>105.58</td>\n",
       "      <td>120.00</td>\n",
       "      <td>139.50</td>\n",
       "      <td>199.50</td>\n",
       "    </tr>\n",
       "    <tr>\n",
       "      <th>&gt;200</th>\n",
       "      <td>46.00</td>\n",
       "      <td>259.32</td>\n",
       "      <td>87.50</td>\n",
       "      <td>200.00</td>\n",
       "      <td>206.26</td>\n",
       "      <td>216.00</td>\n",
       "      <td>260.28</td>\n",
       "      <td>500.00</td>\n",
       "    </tr>\n",
       "  </tbody>\n",
       "</table>\n",
       "</div>"
      ],
      "text/plain": [
       "            count   mean   std    min    25%    50%    75%    max\n",
       "2-50    986867.00  10.69  7.70   2.50   6.00   8.50  12.50  49.90\n",
       "51-100   12610.00  58.52  8.32  50.00  52.76  57.33  57.54  99.75\n",
       "101-200    389.00 125.99 23.67 100.00 105.58 120.00 139.50 199.50\n",
       ">200        46.00 259.32 87.50 200.00 206.26 216.00 260.28 500.00"
      ]
     },
     "execution_count": 106,
     "metadata": {},
     "output_type": "execute_result"
    }
   ],
   "source": [
    "f0 = pd.DataFrame(train[train['fare_group']==fg[0]]['fare_amount'].describe())\n",
    "f1 = pd.DataFrame(train[train['fare_group']==fg[1]]['fare_amount'].describe())\n",
    "f2 = pd.DataFrame(train[train['fare_group']==fg[2]]['fare_amount'].describe())\n",
    "f3 = pd.DataFrame(train[train['fare_group']==fg[3]]['fare_amount'].describe())\n",
    "f_desc = pd.concat([f0,f1,f2,f3],axis=1)\n",
    "f_desc.columns=['2-50','51-100','101-200','>200']\n",
    "f_desc.T"
   ]
  },
  {
   "cell_type": "markdown",
   "metadata": {},
   "source": [
    "__We can see statistics about fare amount divide by fare amount groups:__\n",
    "* __In our 1kk sample 75% of Fare Amount for ride was <= 12.5 dollars, 98.7% of fare amounts were <50 dollars__\n",
    "    * in group 2-50 dollars mean fare: 10.69 dollars, 75% of fare amount for taxi raid was < 12.50 dollars\n",
    "    * in group 51-100 dollars mean fare: 58.52 dollars, 75% of fare amount for taxi raid was < 57.54 dollars\n",
    "    * in group 101-200 dollars mean fare: 125.99 dollars,  75% of fare amount for taxi raid was < 139.50 dollars\n",
    "    * in group 201-500 dollars mean fare: 259.32 dollars,  75% of fare amount for taxi raid was < 260.28 dollars"
   ]
  },
  {
   "cell_type": "code",
   "execution_count": null,
   "metadata": {},
   "outputs": [],
   "source": []
  }
 ],
 "metadata": {
  "kernelspec": {
   "display_name": "Python 3",
   "language": "python",
   "name": "python3"
  },
  "language_info": {
   "codemirror_mode": {
    "name": "ipython",
    "version": 3
   },
   "file_extension": ".py",
   "mimetype": "text/x-python",
   "name": "python",
   "nbconvert_exporter": "python",
   "pygments_lexer": "ipython3",
   "version": "3.7.1"
  }
 },
 "nbformat": 4,
 "nbformat_minor": 2
}
