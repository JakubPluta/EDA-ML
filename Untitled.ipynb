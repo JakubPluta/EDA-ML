{
 "cells": [
  {
   "cell_type": "code",
   "execution_count": 5,
   "metadata": {},
   "outputs": [
    {
     "ename": "ModuleNotFoundError",
     "evalue": "No module named 'bq_helper'",
     "output_type": "error",
     "traceback": [
      "\u001b[1;31m---------------------------------------------------------------------------\u001b[0m",
      "\u001b[1;31mModuleNotFoundError\u001b[0m                       Traceback (most recent call last)",
      "\u001b[1;32m<ipython-input-5-45c663642f4a>\u001b[0m in \u001b[0;36m<module>\u001b[1;34m\u001b[0m\n\u001b[1;32m----> 1\u001b[1;33m \u001b[1;32mimport\u001b[0m \u001b[0mbq_helper\u001b[0m\u001b[1;33m\u001b[0m\u001b[1;33m\u001b[0m\u001b[0m\n\u001b[0m",
      "\u001b[1;31mModuleNotFoundError\u001b[0m: No module named 'bq_helper'"
     ]
    }
   ],
   "source": [
    "import bq_helper\n"
   ]
  },
  {
   "cell_type": "code",
   "execution_count": 2,
   "metadata": {},
   "outputs": [
    {
     "name": "stdout",
     "output_type": "stream",
     "text": [
      "Obtaining bq_helper from git+https://github.com/SohierDane/BigQuery_Helper#egg=bq_helper\n",
      "  Cloning https://github.com/SohierDane/BigQuery_Helper to d:\\pycharmprojects\\venv\\src\\bq-helper\n",
      "Requirement already satisfied: pandas in d:\\pycharmprojects\\venv\\lib\\site-packages (from bq_helper) (0.24.1)\n",
      "Collecting google-cloud-bigquery (from bq_helper)\n",
      "  Downloading https://files.pythonhosted.org/packages/7b/66/cc5a5e8679afc3f1f44489c856fe04507aa1ab9f330086e1810cee8fe19c/google_cloud_bigquery-1.12.0-py2.py3-none-any.whl (130kB)\n",
      "Requirement already satisfied: pytz>=2011k in d:\\pycharmprojects\\venv\\lib\\site-packages (from pandas->bq_helper) (2018.9)\n",
      "Requirement already satisfied: python-dateutil>=2.5.0 in d:\\pycharmprojects\\venv\\lib\\site-packages (from pandas->bq_helper) (2.8.0)\n",
      "Requirement already satisfied: numpy>=1.12.0 in d:\\pycharmprojects\\venv\\lib\\site-packages (from pandas->bq_helper) (1.16.0)\n",
      "Collecting google-resumable-media>=0.3.1 (from google-cloud-bigquery->bq_helper)\n",
      "  Downloading https://files.pythonhosted.org/packages/e2/5d/4bc5c28c252a62efe69ed1a1561da92bd5af8eca0cdcdf8e60354fae9b29/google_resumable_media-0.3.2-py2.py3-none-any.whl\n",
      "Collecting google-cloud-core<2.0dev,>=1.0.0 (from google-cloud-bigquery->bq_helper)\n",
      "  Downloading https://files.pythonhosted.org/packages/34/ba/251d9b6a1695d25d9f081a3db537b0dfb15edaf2037b423e4a98280df7f9/google_cloud_core-1.0.0-py2.py3-none-any.whl\n",
      "Requirement already satisfied: protobuf>=3.6.0 in d:\\pycharmprojects\\venv\\lib\\site-packages (from google-cloud-bigquery->bq_helper) (3.7.0)\n",
      "Collecting google-api-core<2.0.0dev,>=1.6.0 (from google-cloud-bigquery->bq_helper)\n",
      "  Downloading https://files.pythonhosted.org/packages/32/df/1af46c943d13332e0f113b8d1478d9d466a39db5a2c9edf1e533b720421a/google_api_core-1.11.0-py2.py3-none-any.whl (66kB)\n",
      "Requirement already satisfied: six>=1.5 in d:\\pycharmprojects\\venv\\lib\\site-packages (from python-dateutil>=2.5.0->pandas->bq_helper) (1.12.0)\n",
      "Requirement already satisfied: setuptools in d:\\pycharmprojects\\venv\\lib\\site-packages\\setuptools-39.1.0-py3.7.egg (from protobuf>=3.6.0->google-cloud-bigquery->bq_helper) (39.1.0)\n",
      "Collecting google-auth<2.0dev,>=0.4.0 (from google-api-core<2.0.0dev,>=1.6.0->google-cloud-bigquery->bq_helper)\n",
      "  Downloading https://files.pythonhosted.org/packages/c5/9b/ed0516cc1f7609fb0217e3057ff4f0f9f3e3ce79a369c6af4a6c5ca25664/google_auth-1.6.3-py2.py3-none-any.whl (73kB)\n",
      "Requirement already satisfied: requests<3.0.0dev,>=2.18.0 in d:\\pycharmprojects\\venv\\lib\\site-packages (from google-api-core<2.0.0dev,>=1.6.0->google-cloud-bigquery->bq_helper) (2.21.0)\n",
      "Collecting googleapis-common-protos!=1.5.4,<2.0dev,>=1.5.3 (from google-api-core<2.0.0dev,>=1.6.0->google-cloud-bigquery->bq_helper)\n",
      "  Downloading https://files.pythonhosted.org/packages/81/ca/295515dff932fc41cdcb7c80babbba7fe96643d16ce34211fff0ecd48528/googleapis-common-protos-1.5.10.tar.gz\n",
      "Collecting rsa>=3.1.4 (from google-auth<2.0dev,>=0.4.0->google-api-core<2.0.0dev,>=1.6.0->google-cloud-bigquery->bq_helper)\n",
      "  Downloading https://files.pythonhosted.org/packages/02/e5/38518af393f7c214357079ce67a317307936896e961e35450b70fad2a9cf/rsa-4.0-py2.py3-none-any.whl\n",
      "Collecting cachetools>=2.0.0 (from google-auth<2.0dev,>=0.4.0->google-api-core<2.0.0dev,>=1.6.0->google-cloud-bigquery->bq_helper)\n",
      "  Downloading https://files.pythonhosted.org/packages/39/2b/d87fc2369242bd743883232c463f28205902b8579cb68dcf5b11eee1652f/cachetools-3.1.0-py2.py3-none-any.whl\n",
      "Requirement already satisfied: pyasn1-modules>=0.2.1 in d:\\pycharmprojects\\venv\\lib\\site-packages (from google-auth<2.0dev,>=0.4.0->google-api-core<2.0.0dev,>=1.6.0->google-cloud-bigquery->bq_helper) (0.2.4)\n",
      "Requirement already satisfied: chardet<3.1.0,>=3.0.2 in d:\\pycharmprojects\\venv\\lib\\site-packages (from requests<3.0.0dev,>=2.18.0->google-api-core<2.0.0dev,>=1.6.0->google-cloud-bigquery->bq_helper) (3.0.4)\n",
      "Requirement already satisfied: certifi>=2017.4.17 in d:\\pycharmprojects\\venv\\lib\\site-packages (from requests<3.0.0dev,>=2.18.0->google-api-core<2.0.0dev,>=1.6.0->google-cloud-bigquery->bq_helper) (2018.11.29)\n",
      "Requirement already satisfied: urllib3<1.25,>=1.21.1 in d:\\pycharmprojects\\venv\\lib\\site-packages (from requests<3.0.0dev,>=2.18.0->google-api-core<2.0.0dev,>=1.6.0->google-cloud-bigquery->bq_helper) (1.24.1)\n",
      "Requirement already satisfied: idna<2.9,>=2.5 in d:\\pycharmprojects\\venv\\lib\\site-packages (from requests<3.0.0dev,>=2.18.0->google-api-core<2.0.0dev,>=1.6.0->google-cloud-bigquery->bq_helper) (2.8)\n",
      "Requirement already satisfied: pyasn1>=0.1.3 in d:\\pycharmprojects\\venv\\lib\\site-packages (from rsa>=3.1.4->google-auth<2.0dev,>=0.4.0->google-api-core<2.0.0dev,>=1.6.0->google-cloud-bigquery->bq_helper) (0.4.5)\n",
      "Building wheels for collected packages: googleapis-common-protos\n",
      "  Building wheel for googleapis-common-protos (setup.py): started\n",
      "  Building wheel for googleapis-common-protos (setup.py): finished with status 'done'\n",
      "  Stored in directory: C:\\Users\\Jakub Pluta\\AppData\\Local\\pip\\Cache\\wheels\\db\\ad\\87\\5a1f29ad27e01245cebbd23569bb7e9fda90a211ec98ea0ca1\n",
      "Successfully built googleapis-common-protos\n",
      "Installing collected packages: google-resumable-media, rsa, cachetools, google-auth, googleapis-common-protos, google-api-core, google-cloud-core, google-cloud-bigquery, bq-helper\n",
      "  Running setup.py develop for bq-helper\n",
      "Successfully installed bq-helper cachetools-3.1.0 google-api-core-1.11.0 google-auth-1.6.3 google-cloud-bigquery-1.12.0 google-cloud-core-1.0.0 google-resumable-media-0.3.2 googleapis-common-protos-1.5.10 rsa-4.0\n"
     ]
    },
    {
     "name": "stderr",
     "output_type": "stream",
     "text": [
      "  Running command git clone -q https://github.com/SohierDane/BigQuery_Helper 'd:\\pycharmprojects\\venv\\src\\bq-helper'\n"
     ]
    }
   ],
   "source": [
    "!pip install -e git+https://github.com/SohierDane/BigQuery_Helper#egg=bq_helper"
   ]
  },
  {
   "cell_type": "code",
   "execution_count": null,
   "metadata": {},
   "outputs": [],
   "source": []
  }
 ],
 "metadata": {
  "kernelspec": {
   "display_name": "Python 3",
   "language": "python",
   "name": "python3"
  },
  "language_info": {
   "codemirror_mode": {
    "name": "ipython",
    "version": 3
   },
   "file_extension": ".py",
   "mimetype": "text/x-python",
   "name": "python",
   "nbconvert_exporter": "python",
   "pygments_lexer": "ipython3",
   "version": "3.7.1"
  }
 },
 "nbformat": 4,
 "nbformat_minor": 2
}
