{
 "cells": [
  {
   "cell_type": "code",
   "execution_count": 1,
   "metadata": {},
   "outputs": [],
   "source": [
    "import requests as req\n",
    "import bs4\n",
    "from bs4 import BeautifulSoup as BS\n",
    "import urllib\n",
    "import pandas as pd\n",
    "import numpy as np\n",
    "import re\n",
    "from urllib.request import urlopen\n",
    "pd.set_option('max_colwidth',500)"
   ]
  },
  {
   "cell_type": "code",
   "execution_count": 2,
   "metadata": {},
   "outputs": [],
   "source": [
    "URL = \"http://www.indeed.com/jobs?q=Python&l=New+York&start=10\"\n",
    "req = urlopen(URL).read()\n",
    "soup = BS(req, \"html.parser\")\n",
    "city = ''\n",
    "start = ''\n",
    "jobs = ''\n",
    "url_tmp = f\"http://www.indeed.com/jobs?q={jobs}&l={city}&start={start}\""
   ]
  },
  {
   "cell_type": "code",
   "execution_count": 3,
   "metadata": {},
   "outputs": [],
   "source": [
    "USA_Cities = ['New+York', 'Chicago', 'San+Francisco', 'Austin', 'Seattle', \n",
    "    'Los+Angeles', 'Philadelphia', 'Atlanta', 'Dallas', 'Pittsburgh', \n",
    "    'Portland', 'Phoenix', 'Denver', 'Houston', 'Miami', 'washington+dc', 'boston', 'new+orleans', \n",
    "         'charlotte']"
   ]
  },
  {
   "cell_type": "code",
   "execution_count": 4,
   "metadata": {},
   "outputs": [],
   "source": [
    "#soup"
   ]
  },
  {
   "cell_type": "raw",
   "metadata": {},
   "source": [
    "for cmp in soup.find_all(name='span',attrs={'class':'company'}):\n",
    "    company = cmp.text.strip()\n",
    "for clink in soup.find_all(name='span',attrs={'class':'company'}):\n",
    "    base_url = 'http://www.indeed.com'\n",
    "    if clink.a != None:\n",
    "        company_url = (f\"{base_url}{clink.a['href']}\")\n",
    "    else:\n",
    "        company_url = 'N/A'\n",
    "for cmp in soup.find_all(name='span',attrs={'class':'company'}):\n",
    "    company = cmp.text.strip()\n",
    "for loc in soup.find_all(name='span',attrs={'class':'location'}):\n",
    "    location = loc.text.strip()\n",
    "for job in soup.find_all(name='a',attrs={'data-tn-element':'jobTitle'}):\n",
    "    job_title = job.text.strip()\n",
    "for jl in soup.find_all(name='a',attrs={'data-tn-element':'jobTitle'}):\n",
    "    base_url = 'http://www.indeed.com'\n",
    "    if jl['href'] != None:\n",
    "        job_url = (f\"{base_url}{jl['href']}\")\n",
    "    else:\n",
    "        job_url = 'N/A'\n",
    "for summ in soup.find_all(name='div',attrs={'class':'summary'}):\n",
    "    summary = summ.text.strip()\n",
    "for sal in soup.find_all(name='span', attrs={'class' : 'salary no-wrap'}):\n",
    "    if sal != None:\n",
    "        salary = sal.text.strip()\n",
    "    else:\n",
    "        salary = 'N/A'"
   ]
  },
  {
   "cell_type": "code",
   "execution_count": 12,
   "metadata": {},
   "outputs": [],
   "source": [
    "data = pd.DataFrame(columns=[\"location\", 'company', 'job_title', 'salary','summary','job_link','company_link'])"
   ]
  },
  {
   "cell_type": "code",
   "execution_count": 45,
   "metadata": {},
   "outputs": [],
   "source": [
    "j = 'Python'\n",
    "for city in USA_Cities:\n",
    "    for s in range(0,100,10):\n",
    "        base_url = 'http://www.indeed.com'\n",
    "        u = f\"http://www.indeed.com/jobs?q={j}&l={city}&start={s}\"\n",
    "        #print(u)\n",
    "        reqs = urlopen(URL).read()\n",
    "        soups = BS(reqs, \"html.parser\")\n",
    "        for x in soups.find_all('div', attrs = {'class':'row'}):\n",
    "            try:\n",
    "                company = x.find('span', attrs = {'class':'company'}).text.strip()\n",
    "            except:\n",
    "                company = 'NA'\n",
    "            try:\n",
    "                company_url = (f\"{base_url}{x.a['href']}\")\n",
    "            except:\n",
    "                company_url = 'NA'\n",
    "            try:\n",
    "                location = x.find(name='span',attrs={'class':'location'}).text.strip()\n",
    "            except:\n",
    "                location = 'NA'                              \n",
    "            try:\n",
    "                job = x.find(name='a',attrs={'data-tn-element':'jobTitle'}).text.strip()\n",
    "            except:\n",
    "                job = 'NA'                         \n",
    "            try:\n",
    "                temp_job = x.find(name='a',attrs={'data-tn-element':'jobTitle'})['href']\n",
    "                job_link = (f\"{base_url}{temp_job}\")                   \n",
    "            except:\n",
    "                job_link = 'NA'\n",
    "                   \n",
    "            try:\n",
    "                salary = x.find(name='span',attrs={'class' : 'salary no-wrap'}).text.strip()\n",
    "            except:\n",
    "                salary = 'NA'                \n",
    "            try:\n",
    "                summary = x.find(name='div',attrs={'class':'summary'}).text.strip()\n",
    "            except:\n",
    "                summary = 'NA'\n",
    "                               \n",
    "            data = data.append({\"location\":location, \n",
    "                                'company':company, \n",
    "                                'job_title':job, \n",
    "                                'salary':salary,\n",
    "                                'summary':summary,\n",
    "                                'job_link':job_link,\n",
    "                                'company_link':company_url\n",
    "                               },ignore_index=True)"
   ]
  },
  {
   "cell_type": "code",
   "execution_count": 46,
   "metadata": {},
   "outputs": [
    {
     "data": {
      "text/html": [
       "<div>\n",
       "<style scoped>\n",
       "    .dataframe tbody tr th:only-of-type {\n",
       "        vertical-align: middle;\n",
       "    }\n",
       "\n",
       "    .dataframe tbody tr th {\n",
       "        vertical-align: top;\n",
       "    }\n",
       "\n",
       "    .dataframe thead th {\n",
       "        text-align: right;\n",
       "    }\n",
       "</style>\n",
       "<table border=\"1\" class=\"dataframe\">\n",
       "  <thead>\n",
       "    <tr style=\"text-align: right;\">\n",
       "      <th></th>\n",
       "      <th>location</th>\n",
       "      <th>company</th>\n",
       "      <th>job_title</th>\n",
       "      <th>salary</th>\n",
       "      <th>summary</th>\n",
       "      <th>job_link</th>\n",
       "      <th>company_link</th>\n",
       "    </tr>\n",
       "  </thead>\n",
       "  <tbody>\n",
       "    <tr>\n",
       "      <th>0</th>\n",
       "      <td>New York, NY 10005 (Financial District area)</td>\n",
       "      <td>Induci.Inc</td>\n",
       "      <td>Python Developer</td>\n",
       "      <td>$40 - $45 an hour</td>\n",
       "      <td>Writing reusable, testable, and efficient code. Design and implementation of low-latency, high-availability, and performant applications....</td>\n",
       "      <td>http://www.indeed.com/company/Induci.Inc/jobs/Python-Developer-cf8c765c91154fd3?fccid=a06dd9797173dfcc&amp;vjs=3</td>\n",
       "      <td>http://www.indeed.com/company/Induci.Inc/jobs/Python-Developer-cf8c765c91154fd3?fccid=a06dd9797173dfcc&amp;vjs=3</td>\n",
       "    </tr>\n",
       "    <tr>\n",
       "      <th>1</th>\n",
       "      <td>New York, NY 10018 (Clinton area)</td>\n",
       "      <td>Applied Academics LLC</td>\n",
       "      <td>Researcher</td>\n",
       "      <td>$100,000 - $150,000 a year</td>\n",
       "      <td>Company Description*. Applied Academics is a lean and growing team of researchers, technologists, and business teams in New York, Tokyo, and London....</td>\n",
       "      <td>http://www.indeed.com/company/Applied-Academics-LLC/jobs/Researcher-f0616afaecd4d835?fccid=dcd1fa8b75be8e9f&amp;vjs=3</td>\n",
       "      <td>http://www.indeed.com/company/Applied-Academics-LLC/jobs/Researcher-f0616afaecd4d835?fccid=dcd1fa8b75be8e9f&amp;vjs=3</td>\n",
       "    </tr>\n",
       "    <tr>\n",
       "      <th>2</th>\n",
       "      <td>Yorktown Heights, NY 10598</td>\n",
       "      <td>IBM</td>\n",
       "      <td>Research Staff Member - Quantum Simulations</td>\n",
       "      <td>NA</td>\n",
       "      <td>IBM Research Scientists are charting the future of Artificial Intelligence, creating breakthroughs in quantum computing, discovering how blockchain will reshape...</td>\n",
       "      <td>http://www.indeed.com/rc/clk?jk=f2e200bd5e9bd799&amp;fccid=de71a49b535e21cb&amp;vjs=3</td>\n",
       "      <td>http://www.indeed.com/rc/clk?jk=f2e200bd5e9bd799&amp;fccid=de71a49b535e21cb&amp;vjs=3</td>\n",
       "    </tr>\n",
       "    <tr>\n",
       "      <th>3</th>\n",
       "      <td>New York, NY</td>\n",
       "      <td>PRIMESOFT INC</td>\n",
       "      <td>Python Developer</td>\n",
       "      <td>NA</td>\n",
       "      <td>Hi All. Hope you are doing great,please check below job description and let me know your interest and attach resume. Python Developer....</td>\n",
       "      <td>http://www.indeed.com/company/PRIMESOFT-INC/jobs/Python-Developer-327c5e15ceda2369?fccid=9d154a7b4985a45f&amp;vjs=3</td>\n",
       "      <td>http://www.indeed.com/company/PRIMESOFT-INC/jobs/Python-Developer-327c5e15ceda2369?fccid=9d154a7b4985a45f&amp;vjs=3</td>\n",
       "    </tr>\n",
       "    <tr>\n",
       "      <th>4</th>\n",
       "      <td>New York, NY 10107 (Midtown area)</td>\n",
       "      <td>Primary Search Management</td>\n",
       "      <td>JavaScript/Python/Front Office Developer</td>\n",
       "      <td>$130,000 a year</td>\n",
       "      <td>We are looking for a front end with backend experience JavaScript developer. This role is to become part of the Emerging Markets FICC UI Horizontal....</td>\n",
       "      <td>http://www.indeed.com/company/Primary-Search-Management/jobs/Javascript-Python-Front-Office-Developer-06b1c200e3bb7007?fccid=cf45996f25c59c6b&amp;vjs=3</td>\n",
       "      <td>http://www.indeed.com/company/Primary-Search-Management/jobs/Javascript-Python-Front-Office-Developer-06b1c200e3bb7007?fccid=cf45996f25c59c6b&amp;vjs=3</td>\n",
       "    </tr>\n",
       "  </tbody>\n",
       "</table>\n",
       "</div>"
      ],
      "text/plain": [
       "                                       location                    company  \\\n",
       "0  New York, NY 10005 (Financial District area)                 Induci.Inc   \n",
       "1             New York, NY 10018 (Clinton area)      Applied Academics LLC   \n",
       "2                    Yorktown Heights, NY 10598                        IBM   \n",
       "3                                  New York, NY              PRIMESOFT INC   \n",
       "4             New York, NY 10107 (Midtown area)  Primary Search Management   \n",
       "\n",
       "                                     job_title                      salary  \\\n",
       "0                             Python Developer           $40 - $45 an hour   \n",
       "1                                   Researcher  $100,000 - $150,000 a year   \n",
       "2  Research Staff Member - Quantum Simulations                          NA   \n",
       "3                             Python Developer                          NA   \n",
       "4     JavaScript/Python/Front Office Developer             $130,000 a year   \n",
       "\n",
       "                                                                                                                                                               summary  \\\n",
       "0                         Writing reusable, testable, and efficient code. Design and implementation of low-latency, high-availability, and performant applications....   \n",
       "1              Company Description*. Applied Academics is a lean and growing team of researchers, technologists, and business teams in New York, Tokyo, and London....   \n",
       "2  IBM Research Scientists are charting the future of Artificial Intelligence, creating breakthroughs in quantum computing, discovering how blockchain will reshape...   \n",
       "3                            Hi All. Hope you are doing great,please check below job description and let me know your interest and attach resume. Python Developer....   \n",
       "4              We are looking for a front end with backend experience JavaScript developer. This role is to become part of the Emerging Markets FICC UI Horizontal....   \n",
       "\n",
       "                                                                                                                                              job_link  \\\n",
       "0                                         http://www.indeed.com/company/Induci.Inc/jobs/Python-Developer-cf8c765c91154fd3?fccid=a06dd9797173dfcc&vjs=3   \n",
       "1                                    http://www.indeed.com/company/Applied-Academics-LLC/jobs/Researcher-f0616afaecd4d835?fccid=dcd1fa8b75be8e9f&vjs=3   \n",
       "2                                                                        http://www.indeed.com/rc/clk?jk=f2e200bd5e9bd799&fccid=de71a49b535e21cb&vjs=3   \n",
       "3                                      http://www.indeed.com/company/PRIMESOFT-INC/jobs/Python-Developer-327c5e15ceda2369?fccid=9d154a7b4985a45f&vjs=3   \n",
       "4  http://www.indeed.com/company/Primary-Search-Management/jobs/Javascript-Python-Front-Office-Developer-06b1c200e3bb7007?fccid=cf45996f25c59c6b&vjs=3   \n",
       "\n",
       "                                                                                                                                          company_link  \n",
       "0                                         http://www.indeed.com/company/Induci.Inc/jobs/Python-Developer-cf8c765c91154fd3?fccid=a06dd9797173dfcc&vjs=3  \n",
       "1                                    http://www.indeed.com/company/Applied-Academics-LLC/jobs/Researcher-f0616afaecd4d835?fccid=dcd1fa8b75be8e9f&vjs=3  \n",
       "2                                                                        http://www.indeed.com/rc/clk?jk=f2e200bd5e9bd799&fccid=de71a49b535e21cb&vjs=3  \n",
       "3                                      http://www.indeed.com/company/PRIMESOFT-INC/jobs/Python-Developer-327c5e15ceda2369?fccid=9d154a7b4985a45f&vjs=3  \n",
       "4  http://www.indeed.com/company/Primary-Search-Management/jobs/Javascript-Python-Front-Office-Developer-06b1c200e3bb7007?fccid=cf45996f25c59c6b&vjs=3  "
      ]
     },
     "execution_count": 46,
     "metadata": {},
     "output_type": "execute_result"
    }
   ],
   "source": [
    "data.head()"
   ]
  },
  {
   "cell_type": "code",
   "execution_count": 48,
   "metadata": {},
   "outputs": [
    {
     "data": {
      "text/plain": [
       "(1910, 7)"
      ]
     },
     "execution_count": 48,
     "metadata": {},
     "output_type": "execute_result"
    }
   ],
   "source": [
    "data.shape"
   ]
  },
  {
   "cell_type": "code",
   "execution_count": null,
   "metadata": {},
   "outputs": [],
   "source": []
  }
 ],
 "metadata": {
  "kernelspec": {
   "display_name": "Python 3",
   "language": "python",
   "name": "python3"
  },
  "language_info": {
   "codemirror_mode": {
    "name": "ipython",
    "version": 3
   },
   "file_extension": ".py",
   "mimetype": "text/x-python",
   "name": "python",
   "nbconvert_exporter": "python",
   "pygments_lexer": "ipython3",
   "version": "3.7.1"
  }
 },
 "nbformat": 4,
 "nbformat_minor": 2
}
