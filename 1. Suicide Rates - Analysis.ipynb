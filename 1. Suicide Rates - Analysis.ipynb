{
 "cells": [
  {
   "cell_type": "markdown",
   "metadata": {},
   "source": [
    "# Analysis of Suicide Rates"
   ]
  },
  {
   "cell_type": "code",
   "execution_count": 1,
   "metadata": {},
   "outputs": [],
   "source": [
    "import numpy as np \n",
    "import pandas as pd \n",
    "import matplotlib.pyplot as plt\n",
    "import seaborn as sns\n",
    "import warnings\n",
    "warnings.filterwarnings('ignore')\n",
    "pd.options.display.float_format = \"{:.2f}\".format\n",
    "%reload_ext nb_black"
   ]
  },
  {
   "cell_type": "code",
   "execution_count": 2,
   "metadata": {},
   "outputs": [
    {
     "data": {
      "text/plain": [
       "(27820, 12)"
      ]
     },
     "execution_count": 2,
     "metadata": {},
     "output_type": "execute_result"
    }
   ],
   "source": [
    "train = pd.read_csv(r'Input\\Suicide.csv')\n",
    "train.shape"
   ]
  },
  {
   "cell_type": "code",
   "execution_count": 3,
   "metadata": {},
   "outputs": [
    {
     "data": {
      "text/html": [
       "<div>\n",
       "<style scoped>\n",
       "    .dataframe tbody tr th:only-of-type {\n",
       "        vertical-align: middle;\n",
       "    }\n",
       "\n",
       "    .dataframe tbody tr th {\n",
       "        vertical-align: top;\n",
       "    }\n",
       "\n",
       "    .dataframe thead th {\n",
       "        text-align: right;\n",
       "    }\n",
       "</style>\n",
       "<table border=\"1\" class=\"dataframe\">\n",
       "  <thead>\n",
       "    <tr style=\"text-align: right;\">\n",
       "      <th></th>\n",
       "      <th>country</th>\n",
       "      <th>year</th>\n",
       "      <th>sex</th>\n",
       "      <th>age</th>\n",
       "      <th>suicides_no</th>\n",
       "      <th>population</th>\n",
       "      <th>suicides/100k pop</th>\n",
       "      <th>country-year</th>\n",
       "      <th>HDI for year</th>\n",
       "      <th>gdp_for_year ($)</th>\n",
       "      <th>gdp_per_capita ($)</th>\n",
       "      <th>generation</th>\n",
       "    </tr>\n",
       "  </thead>\n",
       "  <tbody>\n",
       "    <tr>\n",
       "      <th>0</th>\n",
       "      <td>Albania</td>\n",
       "      <td>1987</td>\n",
       "      <td>male</td>\n",
       "      <td>15-24 years</td>\n",
       "      <td>21</td>\n",
       "      <td>312900</td>\n",
       "      <td>6.71</td>\n",
       "      <td>Albania1987</td>\n",
       "      <td>nan</td>\n",
       "      <td>2,156,624,900</td>\n",
       "      <td>796</td>\n",
       "      <td>Generation X</td>\n",
       "    </tr>\n",
       "    <tr>\n",
       "      <th>1</th>\n",
       "      <td>Albania</td>\n",
       "      <td>1987</td>\n",
       "      <td>male</td>\n",
       "      <td>35-54 years</td>\n",
       "      <td>16</td>\n",
       "      <td>308000</td>\n",
       "      <td>5.19</td>\n",
       "      <td>Albania1987</td>\n",
       "      <td>nan</td>\n",
       "      <td>2,156,624,900</td>\n",
       "      <td>796</td>\n",
       "      <td>Silent</td>\n",
       "    </tr>\n",
       "    <tr>\n",
       "      <th>2</th>\n",
       "      <td>Albania</td>\n",
       "      <td>1987</td>\n",
       "      <td>female</td>\n",
       "      <td>15-24 years</td>\n",
       "      <td>14</td>\n",
       "      <td>289700</td>\n",
       "      <td>4.83</td>\n",
       "      <td>Albania1987</td>\n",
       "      <td>nan</td>\n",
       "      <td>2,156,624,900</td>\n",
       "      <td>796</td>\n",
       "      <td>Generation X</td>\n",
       "    </tr>\n",
       "    <tr>\n",
       "      <th>3</th>\n",
       "      <td>Albania</td>\n",
       "      <td>1987</td>\n",
       "      <td>male</td>\n",
       "      <td>75+ years</td>\n",
       "      <td>1</td>\n",
       "      <td>21800</td>\n",
       "      <td>4.59</td>\n",
       "      <td>Albania1987</td>\n",
       "      <td>nan</td>\n",
       "      <td>2,156,624,900</td>\n",
       "      <td>796</td>\n",
       "      <td>G.I. Generation</td>\n",
       "    </tr>\n",
       "    <tr>\n",
       "      <th>4</th>\n",
       "      <td>Albania</td>\n",
       "      <td>1987</td>\n",
       "      <td>male</td>\n",
       "      <td>25-34 years</td>\n",
       "      <td>9</td>\n",
       "      <td>274300</td>\n",
       "      <td>3.28</td>\n",
       "      <td>Albania1987</td>\n",
       "      <td>nan</td>\n",
       "      <td>2,156,624,900</td>\n",
       "      <td>796</td>\n",
       "      <td>Boomers</td>\n",
       "    </tr>\n",
       "  </tbody>\n",
       "</table>\n",
       "</div>"
      ],
      "text/plain": [
       "   country  year     sex          age  suicides_no  population  \\\n",
       "0  Albania  1987    male  15-24 years           21      312900   \n",
       "1  Albania  1987    male  35-54 years           16      308000   \n",
       "2  Albania  1987  female  15-24 years           14      289700   \n",
       "3  Albania  1987    male    75+ years            1       21800   \n",
       "4  Albania  1987    male  25-34 years            9      274300   \n",
       "\n",
       "   suicides/100k pop country-year  HDI for year  gdp_for_year ($)   \\\n",
       "0               6.71  Albania1987           nan      2,156,624,900   \n",
       "1               5.19  Albania1987           nan      2,156,624,900   \n",
       "2               4.83  Albania1987           nan      2,156,624,900   \n",
       "3               4.59  Albania1987           nan      2,156,624,900   \n",
       "4               3.28  Albania1987           nan      2,156,624,900   \n",
       "\n",
       "   gdp_per_capita ($)       generation  \n",
       "0                 796     Generation X  \n",
       "1                 796           Silent  \n",
       "2                 796     Generation X  \n",
       "3                 796  G.I. Generation  \n",
       "4                 796          Boomers  "
      ]
     },
     "execution_count": 3,
     "metadata": {},
     "output_type": "execute_result"
    }
   ],
   "source": [
    "train.head()"
   ]
  },
  {
   "cell_type": "code",
   "execution_count": 4,
   "metadata": {},
   "outputs": [
    {
     "data": {
      "text/plain": [
       "Index(['country', 'year', 'sex', 'age', 'suicides_no', 'population',\n",
       "       'suicides/100k pop', 'country-year', 'HDI for year',\n",
       "       ' gdp_for_year ($) ', 'gdp_per_capita ($)', 'generation'],\n",
       "      dtype='object')"
      ]
     },
     "execution_count": 4,
     "metadata": {},
     "output_type": "execute_result"
    }
   ],
   "source": [
    "train.columns"
   ]
  },
  {
   "cell_type": "code",
   "execution_count": 5,
   "metadata": {},
   "outputs": [
    {
     "data": {
      "text/plain": [
       "Iceland                   382\n",
       "Netherlands               382\n",
       "Mauritius                 382\n",
       "Austria                   382\n",
       "Colombia                  372\n",
       "United Kingdom            372\n",
       "Spain                     372\n",
       "Greece                    372\n",
       "Malta                     372\n",
       "Puerto Rico               372\n",
       "Argentina                 372\n",
       "Republic of Korea         372\n",
       "Mexico                    372\n",
       "Italy                     372\n",
       "Belgium                   372\n",
       "United States             372\n",
       "Luxembourg                372\n",
       "Chile                     372\n",
       "Israel                    372\n",
       "Japan                     372\n",
       "Singapore                 372\n",
       "Brazil                    372\n",
       "Ecuador                   372\n",
       "Norway                    360\n",
       "Guatemala                 360\n",
       "Bulgaria                  360\n",
       "Costa Rica                360\n",
       "Ireland                   360\n",
       "Australia                 360\n",
       "France                    360\n",
       "                         ... \n",
       "Belarus                   252\n",
       "Switzerland               252\n",
       "Estonia                   252\n",
       "Slovenia                  252\n",
       "Latvia                    252\n",
       "South Africa              240\n",
       "Serbia                    216\n",
       "Seychelles                216\n",
       "Jamaica                   204\n",
       "Azerbaijan                192\n",
       "Philippines               180\n",
       "Qatar                     178\n",
       "Cyprus                    178\n",
       "Aruba                     168\n",
       "Fiji                      132\n",
       "Kiribati                  132\n",
       "Sri Lanka                 132\n",
       "Maldives                  120\n",
       "Montenegro                120\n",
       "Turkey                     84\n",
       "United Arab Emirates       72\n",
       "Nicaragua                  72\n",
       "San Marino                 36\n",
       "Oman                       36\n",
       "Saint Kitts and Nevis      36\n",
       "Bosnia and Herzegovina     24\n",
       "Macau                      12\n",
       "Dominica                   12\n",
       "Cabo Verde                 12\n",
       "Mongolia                   10\n",
       "Name: country, Length: 101, dtype: int64"
      ]
     },
     "execution_count": 5,
     "metadata": {},
     "output_type": "execute_result"
    }
   ],
   "source": [
    "train['country'].value_counts()"
   ]
  },
  {
   "cell_type": "code",
   "execution_count": 6,
   "metadata": {},
   "outputs": [
    {
     "data": {
      "text/html": [
       "<div>\n",
       "<style scoped>\n",
       "    .dataframe tbody tr th:only-of-type {\n",
       "        vertical-align: middle;\n",
       "    }\n",
       "\n",
       "    .dataframe tbody tr th {\n",
       "        vertical-align: top;\n",
       "    }\n",
       "\n",
       "    .dataframe thead th {\n",
       "        text-align: right;\n",
       "    }\n",
       "</style>\n",
       "<table border=\"1\" class=\"dataframe\">\n",
       "  <thead>\n",
       "    <tr style=\"text-align: right;\">\n",
       "      <th></th>\n",
       "      <th>year</th>\n",
       "      <th>suicides_no</th>\n",
       "      <th>population</th>\n",
       "      <th>suicides/100k pop</th>\n",
       "      <th>HDI for year</th>\n",
       "      <th>gdp_per_capita ($)</th>\n",
       "    </tr>\n",
       "  </thead>\n",
       "  <tbody>\n",
       "    <tr>\n",
       "      <th>count</th>\n",
       "      <td>27820.00</td>\n",
       "      <td>27820.00</td>\n",
       "      <td>27820.00</td>\n",
       "      <td>27820.00</td>\n",
       "      <td>8364.00</td>\n",
       "      <td>27820.00</td>\n",
       "    </tr>\n",
       "    <tr>\n",
       "      <th>mean</th>\n",
       "      <td>2001.26</td>\n",
       "      <td>242.57</td>\n",
       "      <td>1844793.62</td>\n",
       "      <td>12.82</td>\n",
       "      <td>0.78</td>\n",
       "      <td>16866.46</td>\n",
       "    </tr>\n",
       "    <tr>\n",
       "      <th>std</th>\n",
       "      <td>8.47</td>\n",
       "      <td>902.05</td>\n",
       "      <td>3911779.44</td>\n",
       "      <td>18.96</td>\n",
       "      <td>0.09</td>\n",
       "      <td>18887.58</td>\n",
       "    </tr>\n",
       "    <tr>\n",
       "      <th>min</th>\n",
       "      <td>1985.00</td>\n",
       "      <td>0.00</td>\n",
       "      <td>278.00</td>\n",
       "      <td>0.00</td>\n",
       "      <td>0.48</td>\n",
       "      <td>251.00</td>\n",
       "    </tr>\n",
       "    <tr>\n",
       "      <th>25%</th>\n",
       "      <td>1995.00</td>\n",
       "      <td>3.00</td>\n",
       "      <td>97498.50</td>\n",
       "      <td>0.92</td>\n",
       "      <td>0.71</td>\n",
       "      <td>3447.00</td>\n",
       "    </tr>\n",
       "    <tr>\n",
       "      <th>50%</th>\n",
       "      <td>2002.00</td>\n",
       "      <td>25.00</td>\n",
       "      <td>430150.00</td>\n",
       "      <td>5.99</td>\n",
       "      <td>0.78</td>\n",
       "      <td>9372.00</td>\n",
       "    </tr>\n",
       "    <tr>\n",
       "      <th>75%</th>\n",
       "      <td>2008.00</td>\n",
       "      <td>131.00</td>\n",
       "      <td>1486143.25</td>\n",
       "      <td>16.62</td>\n",
       "      <td>0.85</td>\n",
       "      <td>24874.00</td>\n",
       "    </tr>\n",
       "    <tr>\n",
       "      <th>max</th>\n",
       "      <td>2016.00</td>\n",
       "      <td>22338.00</td>\n",
       "      <td>43805214.00</td>\n",
       "      <td>224.97</td>\n",
       "      <td>0.94</td>\n",
       "      <td>126352.00</td>\n",
       "    </tr>\n",
       "  </tbody>\n",
       "</table>\n",
       "</div>"
      ],
      "text/plain": [
       "          year  suicides_no  population  suicides/100k pop  HDI for year  \\\n",
       "count 27820.00     27820.00    27820.00           27820.00       8364.00   \n",
       "mean   2001.26       242.57  1844793.62              12.82          0.78   \n",
       "std       8.47       902.05  3911779.44              18.96          0.09   \n",
       "min    1985.00         0.00      278.00               0.00          0.48   \n",
       "25%    1995.00         3.00    97498.50               0.92          0.71   \n",
       "50%    2002.00        25.00   430150.00               5.99          0.78   \n",
       "75%    2008.00       131.00  1486143.25              16.62          0.85   \n",
       "max    2016.00     22338.00 43805214.00             224.97          0.94   \n",
       "\n",
       "       gdp_per_capita ($)  \n",
       "count            27820.00  \n",
       "mean             16866.46  \n",
       "std              18887.58  \n",
       "min                251.00  \n",
       "25%               3447.00  \n",
       "50%               9372.00  \n",
       "75%              24874.00  \n",
       "max             126352.00  "
      ]
     },
     "execution_count": 6,
     "metadata": {},
     "output_type": "execute_result"
    }
   ],
   "source": [
    "train.describe()"
   ]
  },
  {
   "cell_type": "code",
   "execution_count": 7,
   "metadata": {},
   "outputs": [
    {
     "data": {
      "text/plain": [
       "country                object\n",
       "year                    int64\n",
       "sex                    object\n",
       "age                    object\n",
       "suicides_no             int64\n",
       "population              int64\n",
       "suicides/100k pop     float64\n",
       "country-year           object\n",
       "HDI for year          float64\n",
       " gdp_for_year ($)      object\n",
       "gdp_per_capita ($)      int64\n",
       "generation             object\n",
       "dtype: object"
      ]
     },
     "execution_count": 7,
     "metadata": {},
     "output_type": "execute_result"
    }
   ],
   "source": [
    "train.dtypes"
   ]
  },
  {
   "cell_type": "code",
   "execution_count": 8,
   "metadata": {},
   "outputs": [
    {
     "data": {
      "text/plain": [
       "Index(['country', 'year', 'sex', 'age', 'SuicidesNo', 'population',\n",
       "       'SuicidesPer100k', 'CountryYear', 'HDI for year', 'GdpForYearUSD',\n",
       "       'GdpPerCapitaUSD', 'generation'],\n",
       "      dtype='object')"
      ]
     },
     "execution_count": 8,
     "metadata": {},
     "output_type": "execute_result"
    }
   ],
   "source": [
    "train=train.rename(columns={'suicides_no':'SuicidesNo','suicides/100k pop':'SuicidesPer100k',\n",
    "                            'country-year':'CountryYear',' gdp_for_year ($) ':'GdpForYearUSD','gdp_per_capita ($)':'GdpPerCapitaUSD'})\n",
    "train.columns"
   ]
  },
  {
   "cell_type": "code",
   "execution_count": 9,
   "metadata": {},
   "outputs": [
    {
     "data": {
      "text/plain": [
       "HDI for year       19456\n",
       "generation             0\n",
       "GdpPerCapitaUSD        0\n",
       "GdpForYearUSD          0\n",
       "CountryYear            0\n",
       "SuicidesPer100k        0\n",
       "population             0\n",
       "SuicidesNo             0\n",
       "age                    0\n",
       "sex                    0\n",
       "year                   0\n",
       "country                0\n",
       "dtype: int64"
      ]
     },
     "execution_count": 9,
     "metadata": {},
     "output_type": "execute_result"
    }
   ],
   "source": [
    "train.isnull().sum().sort_values(ascending=False)"
   ]
  },
  {
   "cell_type": "code",
   "execution_count": 10,
   "metadata": {},
   "outputs": [
    {
     "name": "stdout",
     "output_type": "stream",
     "text": [
      "There is 69.94 % of nulls in HDI for year column\n"
     ]
    }
   ],
   "source": [
    "nulls_HDI_percentage = train.isnull().sum().sort_values(ascending=False)[0] / train.shape[0]*100\n",
    "print(f'There is {round(nulls_HDI_percentage,2)} % of nulls in HDI for year column')"
   ]
  },
  {
   "cell_type": "code",
   "execution_count": 11,
   "metadata": {},
   "outputs": [],
   "source": [
    "# We should drop that columns!"
   ]
  },
  {
   "cell_type": "code",
   "execution_count": 12,
   "metadata": {},
   "outputs": [],
   "source": [
    "train.drop(['HDI for year'],axis=1,inplace=True)"
   ]
  },
  {
   "cell_type": "code",
   "execution_count": 13,
   "metadata": {},
   "outputs": [
    {
     "data": {
      "text/plain": [
       "Index(['country', 'year', 'sex', 'age', 'SuicidesNo', 'population',\n",
       "       'SuicidesPer100k', 'CountryYear', 'GdpForYearUSD', 'GdpPerCapitaUSD',\n",
       "       'generation'],\n",
       "      dtype='object')"
      ]
     },
     "execution_count": 13,
     "metadata": {},
     "output_type": "execute_result"
    }
   ],
   "source": [
    "train.columns"
   ]
  },
  {
   "cell_type": "code",
   "execution_count": 14,
   "metadata": {},
   "outputs": [
    {
     "data": {
      "text/plain": [
       "18554                Panama2015\n",
       "2109                Austria2011\n",
       "1063                Armenia1998\n",
       "12973                 Italy2000\n",
       "11328                Guyana2011\n",
       "7591                Denmark2008\n",
       "26823        United Kingdom2013\n",
       "10539               Grenada2003\n",
       "21138    Russian Federation2005\n",
       "757               Argentina1999\n",
       "Name: CountryYear, dtype: object"
      ]
     },
     "execution_count": 14,
     "metadata": {},
     "output_type": "execute_result"
    }
   ],
   "source": [
    "# We can also drop CountryYear\n",
    "train['CountryYear'].sample(10)"
   ]
  },
  {
   "cell_type": "code",
   "execution_count": 15,
   "metadata": {},
   "outputs": [],
   "source": [
    "train.drop(['CountryYear'],axis=1,inplace=True)"
   ]
  },
  {
   "cell_type": "code",
   "execution_count": 16,
   "metadata": {},
   "outputs": [
    {
     "name": "stdout",
     "output_type": "stream",
     "text": [
      "Minimal Year in our dataset : 1985. Maximal Year in our dataset: 2016.\n"
     ]
    }
   ],
   "source": [
    "min_year,max_year = min(train['year']),max(train['year'])\n",
    "print(f'Minimal Year in our dataset : {min_year}. Maximal Year in our dataset: {max_year}.')"
   ]
  },
  {
   "cell_type": "code",
   "execution_count": 17,
   "metadata": {},
   "outputs": [],
   "source": [
    "suicide_1985 = train.groupby(['year','country'])['SuicidesNo'].sum().sort_values(ascending=False)[min_year]\n",
    "suicide_2016 = train.groupby(['year','country'])['SuicidesNo'].sum().sort_values(ascending=False)[max_year]"
   ]
  },
  {
   "cell_type": "code",
   "execution_count": 18,
   "metadata": {},
   "outputs": [
    {
     "data": {
      "text/plain": [
       "<matplotlib.axes._subplots.AxesSubplot at 0x1a970ed3780>"
      ]
     },
     "execution_count": 18,
     "metadata": {},
     "output_type": "execute_result"
    },
    {
     "data": {
      "image/png": "[encoded data removed]",
      "text/plain": [
       "<Figure size 864x576 with 1 Axes>"
      ]
     },
     "metadata": {
      "needs_background": "light"
     },
     "output_type": "display_data"
    }
   ],
   "source": [
    "plt.figure(figsize=(12,8))\n",
    "suicide_1985[:15].plot(kind='bar')"
   ]
  },
  {
   "cell_type": "code",
   "execution_count": 19,
   "metadata": {},
   "outputs": [
    {
     "data": {
      "text/plain": [
       "<matplotlib.axes._subplots.AxesSubplot at 0x1a9710933c8>"
      ]
     },
     "execution_count": 19,
     "metadata": {},
     "output_type": "execute_result"
    },
    {
     "data": {
      "image/png": "[encoded data removed]",
      "text/plain": [
       "<Figure size 1440x720 with 1 Axes>"
      ]
     },
     "metadata": {
      "needs_background": "light"
     },
     "output_type": "display_data"
    }
   ],
   "source": [
    "plt.figure(figsize=(20,10))\n",
    "sns.set(style=\"whitegrid\")\n",
    "sns.barplot(x=suicide_1985[:15].index, y=suicide_1985[:15])"
   ]
  },
  {
   "cell_type": "code",
   "execution_count": 20,
   "metadata": {},
   "outputs": [],
   "source": [
    "population_1985 = train.groupby(['year','country'])['population'].sum().sort_values(ascending=False)[min_year]\n",
    "population_2016 = train.groupby(['year','country'])['population'].sum().sort_values(ascending=False)[max_year]"
   ]
  },
  {
   "cell_type": "code",
   "execution_count": 23,
   "metadata": {},
   "outputs": [
    {
     "data": {
      "text/plain": [
       "Sri Lanka                      0.04\n",
       "Austria                        0.03\n",
       "Suriname                       0.02\n",
       "Belgium                        0.02\n",
       "France                         0.02\n",
       "Japan                          0.02\n",
       "Bulgaria                       0.02\n",
       "Luxembourg                     0.02\n",
       "Iceland                        0.01\n",
       "Seychelles                     0.01\n",
       "Canada                         0.01\n",
       "Singapore                      0.01\n",
       "United States                  0.01\n",
       "Australia                      0.01\n",
       "Netherlands                    0.01\n",
       "Mauritius                      0.01\n",
       "New Zealand                    0.01\n",
       "Portugal                       0.01\n",
       "Uruguay                        0.01\n",
       "Republic of Korea              0.01\n",
       "United Kingdom                 0.01\n",
       "Italy                          0.01\n",
       "Puerto Rico                    0.01\n",
       "Ireland                        0.01\n",
       "Argentina                      0.01\n",
       "Spain                          0.01\n",
       "Thailand                       0.01\n",
       "Chile                          0.01\n",
       "Israel                         0.01\n",
       "Costa Rica                     0.01\n",
       "Ecuador                        0.01\n",
       "Greece                         0.00\n",
       "Colombia                       0.00\n",
       "Brazil                         0.00\n",
       "Barbados                       0.00\n",
       "Bahrain                        0.00\n",
       "Panama                         0.00\n",
       "Trinidad and Tobago            0.00\n",
       "Mexico                         0.00\n",
       "Saint Vincent and Grenadines   0.00\n",
       "Paraguay                       0.00\n",
       "Grenada                        0.00\n",
       "Kuwait                         0.00\n",
       "Malta                          0.00\n",
       "Bahamas                        0.00\n",
       "Jamaica                        0.00\n",
       "Dominica                       0.00\n",
       "Antigua and Barbuda            0.00\n",
       "Name: ratio, dtype: float64"
      ]
     },
     "execution_count": 23,
     "metadata": {},
     "output_type": "execute_result"
    }
   ],
   "source": [
    "df1 = pd.concat([population_1985,suicide_1985],keys='country',axis=1).rename(columns={'c':'population','o':'suicides'})\n",
    "df1['ratio'] = df1['suicides']/df1['population']*100\n",
    "df1['ratio'].sort_values(ascending=False)"
   ]
  },
  {
   "cell_type": "code",
   "execution_count": 34,
   "metadata": {},
   "outputs": [],
   "source": [
    "countries_1985 = train.groupby(['year','country'])['population'].sum().sort_values(ascending=False)[min_year].index.tolist()"
   ]
  },
  {
   "cell_type": "code",
   "execution_count": null,
   "metadata": {},
   "outputs": [],
   "source": [
    "males, females = [],[]\n",
    "for i in countries_1985:\n",
    "    males.append()"
   ]
  }
 ],
 "metadata": {
  "kernelspec": {
   "display_name": "Python 3",
   "language": "python",
   "name": "python3"
  },
  "language_info": {
   "codemirror_mode": {
    "name": "ipython",
    "version": 3
   },
   "file_extension": ".py",
   "mimetype": "text/x-python",
   "name": "python",
   "nbconvert_exporter": "python",
   "pygments_lexer": "ipython3",
   "version": "3.7.1"
  }
 },
 "nbformat": 4,
 "nbformat_minor": 2
}
