{
 "cells": [
  {
   "cell_type": "code",
   "execution_count": 1,
   "metadata": {},
   "outputs": [],
   "source": [
    "import bs4\n",
    "import requests as req\n",
    "from bs4 import BeautifulSoup as BS\n",
    "import pandas as pd\n",
    "import time\n",
    "# Przed Wami pierwsza część zadania nr 4. \n",
    "# Tym razem głównym zadaniem nie będzie przeanalizowanie danych, a ich pobranie, a raczej napisanie programu do \n",
    "# ich pobierania. Dane, które chcielibyśmy zdobyć to oferty pracy zamieszczone na portalu Indeed.com \n",
    "# (łącznie z nazwą firmy, lokalizacją, zarobkami, opisem oferty itd.). Przykładowy link do wyszukiwania ofert: \n",
    "# https://www.indeed.com/jobs?q=data+scientist&l=San+Francisco. Co dokładnie pobierzecie, tzn. \n",
    "# jakie zapytania wpiszecie, zależy od Waszego pomysłu, mogą to być na przykład różne języki programowania, \n",
    "# różne nazwy stanowisk, różne lokalizacje (możecie np. skorzystać z angielskiej jak i polskiej wersji strony).\n",
    "# Analizą i wizualizacją danych zajmiemy się później.\n",
    "\n",
    "# Nazwa\n",
    "# Lokalizacji\n",
    "# Zarobki\n",
    "# Stanowisko\n",
    "\n",
    "# https://www.indeed.co.uk/jobs?q=Python&l=London\n",
    "# https://www.indeed.co.uk/jobs?q=Python&l=London&start=10\n",
    "# https://www.indeed.co.uk/jobs?q=Python&l=London&start=20"
   ]
  },
  {
   "cell_type": "code",
   "execution_count": 2,
   "metadata": {},
   "outputs": [],
   "source": [
    "# jobs?q=Python\n",
    "# l=London\n",
    "# start=10"
   ]
  },
  {
   "cell_type": "raw",
   "metadata": {},
   "source": [
    "<div class=\"jobsearch-SerpJobCard unifiedRow row result clickcard\" id=\"p_472352d291515155\" data-jk=\"472352d291515155\" data-tn-component=\"organicJob\">\n",
    "\n",
    "    <div class=\"title\">\n",
    "        <a target=\"_blank\" id=\"jl_472352d291515155\" href=\"/company/Insight-IT-&amp;-Engineering-Recruitment-LTD/jobs/Software-Engineer-472352d291515155?fccid=0c51f59c4cba6a51&amp;vjs=3\" onmousedown=\"return rclk(this,jobmap[6],1);\" onclick=\" setRefineByCookie([]); return rclk(this,jobmap[6],true,1);\" rel=\"noopener nofollow\" title=\"Software Engineer (Python)\" class=\"jobtitle turnstileLink \" data-tn-element=\"jobTitle\">\n",
    "            Software Engineer (<b>Python</b>)</a>\n",
    "\n",
    "         - <span class=\"new\">new</span></div>\n",
    "\n",
    "    <div class=\"sjcl\">\n",
    "        <div>\n",
    "    <span class=\"company\">\n",
    "        Insight IT &amp; Engineering Recruitment LTD</span>\n",
    "\n",
    "    </div>\n",
    "<div id=\"recJobLoc_472352d291515155\" class=\"recJobLoc\" data-rc-loc=\"Hackney\" style=\"display: none\"></div>\n",
    "\n",
    "        <span class=\"location\">Hackney</span>\n",
    "                    </div>\n",
    "\n",
    "    <div class=\"salarySnippet salarySnippetDemphasize\">\n",
    "        <span class=\"salary no-wrap\">\n",
    "                £60,000 - £80,000 a year</span>\n",
    "        </div>\n",
    "<div class=\"summary\">\n",
    "            You’ll have 2+ years’ experience developing with <b>Python</b>, have a keen interest in AI/Machine Learning and be passionate about improving products....</div>\n",
    "    <div class=\"iaWrapper\"><div class=\"iaP\">\n",
    "                <span class=\"iaLabel\">Apply without logging in</span>\n",
    "            </div></div>\n",
    "    <div class=\"jobsearch-SerpJobCard-footer\">\n",
    "        <div class=\"jobsearch-SerpJobCard-footerActions\">\n",
    "            <div class=\"result-link-bar-container\">\n",
    "                        <div class=\"result-link-bar\"><span class=\"date\">5 hours ago</span> <span id=\"tt_set_6\" class=\"tt_set\">  -  <a id=\"sj_472352d291515155\" href=\"#\" class=\"sl resultLink save-job-link \" onclick=\"changeJobState('472352d291515155', 'save', 'linkbar', false, ''); return false;\" title=\"Save this job to my.indeed\">save job</a> - <a href=\"#\" id=\"tog_6\" class=\"sl resultLink more-link \" onclick=\"toggleMoreLinks('472352d291515155'); return false;\">more...</a></span><div id=\"editsaved2_472352d291515155\" class=\"edit_note_content\" style=\"display:none;\"></div><script>if (!window['result_472352d291515155']) {window['result_472352d291515155'] = {};}window['result_472352d291515155']['showSource'] = false; window['result_472352d291515155']['source'] = \"Indeed\"; window['result_472352d291515155']['loggedIn'] = false; window['result_472352d291515155']['showMyJobsLinks'] = false;window['result_472352d291515155']['undoAction'] = \"unsave\";window['result_472352d291515155']['relativeJobAge'] = \"5 hours ago\";window['result_472352d291515155']['jobKey'] = \"472352d291515155\"; window['result_472352d291515155']['myIndeedAvailable'] = true; window['result_472352d291515155']['showMoreActionsLink'] = window['result_472352d291515155']['showMoreActionsLink'] || true; window['result_472352d291515155']['resultNumber'] = 6; window['result_472352d291515155']['jobStateChangedToSaved'] = false; window['result_472352d291515155']['searchState'] = \"q=Python&amp;l=London&amp;start=10\"; window['result_472352d291515155']['basicPermaLink'] = \"https://www.indeed.co.uk\"; window['result_472352d291515155']['saveJobFailed'] = false; window['result_472352d291515155']['removeJobFailed'] = false; window['result_472352d291515155']['requestPending'] = false; window['result_472352d291515155']['notesEnabled'] = true; window['result_472352d291515155']['currentPage'] = \"serp\"; window['result_472352d291515155']['sponsored'] = false;window['result_472352d291515155']['reportJobButtonEnabled'] = false; window['result_472352d291515155']['showMyJobsHired'] = false; window['result_472352d291515155']['showSaveForSponsored'] = false; window['result_472352d291515155']['showJobAge'] = true;</script></div></div>\n",
    "                </div>\n",
    "    </div>\n",
    "\n",
    "\n",
    "<div class=\"tab-container\">\n",
    "                <div id=\"tt_display_6\" class=\"more-links-container result-tab\" style=\"display:none;\"><a class=\"close-link closeLink\" title=\"Close\" href=\"#\" onclick=\"toggleMoreLinks('472352d291515155'); return false;\"></a><div id=\"more_6\" class=\"more_actions\"><ul><li><span class=\"mat\">View all <a href=\"/Insight-IT-&amp;-Engineering-Recruitment-Ltd-jobs\">Insight IT &amp; Engineering Recruitment LTD jobs</a> - <a href=\"/jobs-in-Hackney\">Hackney jobs</a></span></li><li><span class=\"mat\">Salary Search: <a href=\"/salaries/Junior-Software-Engineer-Salaries,-Hackney-ENG\" onmousedown=\"this.href = appendParamsOnce(this.href, '?campaignid=serp-more&amp;fromjk=472352d291515155&amp;from=serp-more');\">Junior Software Engineer salaries in Hackney</a></span></li></ul></div></div><div class=\"dya-container result-tab\"></div>\n",
    "                <div class=\"tellafriend-container result-tab email_job_content\"></div>\n",
    "                <div class=\"sign-in-container result-tab\"></div>\n",
    "                <div class=\"notes-container result-tab\"></div>\n",
    "            </div>\n",
    "        </div>"
   ]
  },
  {
   "cell_type": "code",
   "execution_count": null,
   "metadata": {},
   "outputs": [],
   "source": []
  },
  {
   "cell_type": "code",
   "execution_count": 25,
   "metadata": {},
   "outputs": [],
   "source": [
    "URL = 'https://www.indeed.co.uk/jobs?q=Python&l=London&start=10'\n",
    "p = req.get(URL)\n",
    "soup = BS(p.text,'html.parser')"
   ]
  },
  {
   "cell_type": "code",
   "execution_count": 6,
   "metadata": {},
   "outputs": [],
   "source": [
    "# Nazwy Firmy \n",
    "company = []\n",
    "for div in soup.find_all('div',{'class':'row'}):\n",
    "    for span in div.find_all('span'):\n",
    "        for comp in span.find_all(name='a', attrs={'data-tn-element':'companyName'}):\n",
    "            company.append(comp.text.replace('\\n','').strip())\n"
   ]
  },
  {
   "cell_type": "code",
   "execution_count": 7,
   "metadata": {},
   "outputs": [
    {
     "name": "stdout",
     "output_type": "stream",
     "text": [
      "{'class': ['jobsearch-SerpJobCard', 'unifiedRow', 'row', 'result'], 'id': 'pj_84f57524be2c24f6', 'data-jk': '84f57524be2c24f6', 'data-empn': '4559023571116542', 'data-ci': '301789100'}\n",
      "{'class': ['jobsearch-SerpJobCard', 'unifiedRow', 'row', 'result'], 'id': 'pj_2f341c421c69d64e', 'data-jk': '2f341c421c69d64e', 'data-empn': '309101416907606', 'data-ci': '301014432'}\n",
      "{'class': ['jobsearch-SerpJobCard', 'unifiedRow', 'row', 'result'], 'id': 'pj_f598f3d523218c99', 'data-jk': 'f598f3d523218c99', 'data-empn': '7208846734517562', 'data-ci': '275286109'}\n",
      "{'class': ['jobsearch-SerpJobCard', 'unifiedRow', 'row', 'result'], 'id': 'pj_545588e69b5bcb3f', 'data-jk': '545588e69b5bcb3f', 'data-empn': '2393513727600444', 'data-ci': '293931140', 'data-tu': 'https://api.clickiq.co.uk/api/Tracking/Beacon/10b2c30d-7952-4b26-8e6c-d8e4a960dcfa/7ec2e466-949d-47c1-a0a8-d561da2bf85b/fe2de7ad-3df7-4213-8e9c-80df3a1f353e?indeed=sp'}\n",
      "{'class': ['jobsearch-SerpJobCard', 'unifiedRow', 'row', 'result'], 'id': 'pj_d7b793f497f04570', 'data-jk': 'd7b793f497f04570', 'data-empn': '8068400946354999', 'data-ci': '298419521'}\n",
      "{'class': ['jobsearch-SerpJobCard', 'unifiedRow', 'row', 'result'], 'id': 'pj_cb797467097a574f', 'data-jk': 'cb797467097a574f', 'data-empn': '6529260601615767', 'data-ci': '299924619'}\n",
      "{'class': ['jobsearch-SerpJobCard', 'unifiedRow', 'row', 'result'], 'id': 'p_5d9d54cf71d4f6e7', 'data-jk': '5d9d54cf71d4f6e7', 'data-tn-component': 'organicJob'}\n",
      "{'class': ['jobsearch-SerpJobCard', 'unifiedRow', 'row', 'result'], 'id': 'p_906b8cd2db93d86d', 'data-jk': '906b8cd2db93d86d', 'data-tn-component': 'organicJob'}\n",
      "{'class': ['jobsearch-SerpJobCard', 'unifiedRow', 'row', 'result'], 'id': 'p_ea5531960b231f83', 'data-jk': 'ea5531960b231f83', 'data-tn-component': 'organicJob'}\n",
      "{'class': ['jobsearch-SerpJobCard', 'unifiedRow', 'row', 'result'], 'id': 'p_77db1e7d5d46de98', 'data-jk': '77db1e7d5d46de98', 'data-tn-component': 'organicJob'}\n",
      "{'class': ['jobsearch-SerpJobCard', 'unifiedRow', 'row', 'result'], 'id': 'p_b201432569d24316', 'data-jk': 'b201432569d24316', 'data-tn-component': 'organicJob'}\n",
      "{'class': ['jobsearch-SerpJobCard', 'unifiedRow', 'row', 'result'], 'id': 'p_7d679a25c142ea6b', 'data-jk': '7d679a25c142ea6b', 'data-tn-component': 'organicJob'}\n",
      "{'class': ['jobsearch-SerpJobCard', 'unifiedRow', 'row', 'result'], 'id': 'p_55a58778c2a22446', 'data-jk': '55a58778c2a22446', 'data-tn-component': 'organicJob'}\n",
      "{'class': ['jobsearch-SerpJobCard', 'unifiedRow', 'row', 'result'], 'id': 'p_472352d291515155', 'data-jk': '472352d291515155', 'data-tn-component': 'organicJob'}\n",
      "{'class': ['jobsearch-SerpJobCard', 'unifiedRow', 'row', 'result'], 'id': 'p_139a6fde3f220cbc', 'data-jk': '139a6fde3f220cbc', 'data-tn-component': 'organicJob'}\n",
      "{'class': ['jobsearch-SerpJobCard', 'unifiedRow', 'row', 'result'], 'id': 'p_bcd134c28a51b4c8', 'data-jk': 'bcd134c28a51b4c8', 'data-tn-component': 'organicJob'}\n",
      "{'class': ['jobsearch-SerpJobCard', 'unifiedRow', 'row', 'result'], 'id': 'pj_6fcea1f32dc15cd9', 'data-jk': '6fcea1f32dc15cd9', 'data-empn': '7883582772812291', 'data-ci': '267419565'}\n",
      "{'class': ['jobsearch-SerpJobCard', 'unifiedRow', 'row', 'result'], 'id': 'pj_29850ededf7e9470', 'data-jk': '29850ededf7e9470', 'data-empn': '9102179542350973', 'data-ci': '294085443', 'data-tu': 'http://indeed.gedankenburg.de/track_clicks/461?indeed=sp'}\n",
      "{'class': ['jobsearch-SerpJobCard', 'unifiedRow', 'row', 'result'], 'id': 'pj_99bf6bbaba19796f', 'data-jk': '99bf6bbaba19796f', 'data-empn': '8068400946354999', 'data-ci': '217351318'}\n"
     ]
    }
   ],
   "source": [
    "for div3 in soup.find_all(name='div',attrs={'class':'row'}):\n",
    "    print(div3.attrs)\n",
    "    #for tt in div3.find_all(name='sjcl',attrs={'span':'location'}):\n",
    "       # print(tt)"
   ]
  },
  {
   "cell_type": "code",
   "execution_count": 33,
   "metadata": {},
   "outputs": [],
   "source": [
    "jobs,companies,urls = [],[],[]\n",
    "base = 'https://www.indeed.co.uk'\n",
    "for div1 in soup.find_all(name='div',attrs={'class':'row'}):\n",
    "    #print(div1)\n",
    "    for job in div1.find_all(name='a',attrs={'data-tn-element':'jobTitle'}):\n",
    "        #print(job['href'])\n",
    "        #print(job['title'])\n",
    "        jobs.append(job['title'].strip())\n",
    "    for cc in div1.find_all(name='span',attrs={'class':'company'}):\n",
    "        if len(cc.text.strip())>0:\n",
    "            companies.append(cc.text.strip())\n",
    "        else:\n",
    "            for cc2 in div1.find_all(name='span', attrs={'class': 'result-link-source'}):\n",
    "                companies.append(cc2.text.strip())\n",
    "    for l in div1.find_all('div',{'class':'title'}):\n",
    "        for link in l.find_all('a'):\n",
    "            #print(link.text.strip())\n",
    "            link0 = base + str(link['href'])\n",
    "            urls.append(link0)           \n"
   ]
  },
  {
   "cell_type": "code",
   "execution_count": 50,
   "metadata": {},
   "outputs": [],
   "source": [
    "loc,summary, salary,quick_apply = [],[],[],[]\n",
    "for sjcl in soup.find_all(name='div',attrs={'class':'sjcl'}):\n",
    "    #print(sjcl)\n",
    "    for localization in sjcl.find_all(name='span', attrs={'class':'location'}):\n",
    "        if len(localization.text.strip())>0:\n",
    "            loc.append(localization.text.strip())\n",
    "        else:\n",
    "            loc.append('Not Found')\n",
    "        #for loc in location.find_all(name='span',attrs={'class':'location'}):\n",
    "        #locations=loc.text.strip()\n",
    "#summary        \n",
    "for sm in soup.find_all(name='div',attrs={'class','summary'}):\n",
    "    summary.append(sm.text.strip())\n",
    "\n",
    "#salary\n",
    "for i in soup.find_all('div',attrs={'class':'salarySnippet'}):\n",
    "    #print(i)\n",
    "    for j in i.find_all(name='span',attrs={'class':'salary no-wrap'}):\n",
    "        salary.append(j.text.strip())\n",
    "\n",
    "#quick apply        \n",
    "for x in soup.find_all(name='div', attrs={'class':'iaWrapper'}):\n",
    "    for y in x.find_all(name='span',attrs={'class':'iaLabel'}):\n",
    "        quick_apply.append(y.text.strip())        "
   ]
  },
  {
   "cell_type": "code",
   "execution_count": null,
   "metadata": {},
   "outputs": [],
   "source": []
  }
 ],
 "metadata": {
  "kernelspec": {
   "display_name": "Python 3",
   "language": "python",
   "name": "python3"
  },
  "language_info": {
   "codemirror_mode": {
    "name": "ipython",
    "version": 3
   },
   "file_extension": ".py",
   "mimetype": "text/x-python",
   "name": "python",
   "nbconvert_exporter": "python",
   "pygments_lexer": "ipython3",
   "version": "3.7.1"
  }
 },
 "nbformat": 4,
 "nbformat_minor": 2
}
