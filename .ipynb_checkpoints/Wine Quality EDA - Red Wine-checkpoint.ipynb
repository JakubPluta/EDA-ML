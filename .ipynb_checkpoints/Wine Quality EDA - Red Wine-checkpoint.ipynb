{
 "cells": [
  {
   "cell_type": "code",
   "execution_count": 2,
   "metadata": {},
   "outputs": [],
   "source": [
    "import numpy as np \n",
    "import pandas as pd \n",
    "import matplotlib.pyplot as plt\n",
    "import seaborn as sns\n",
    "import warnings\n",
    "from matplotlib import cm\n",
    "warnings.filterwarnings('ignore')\n",
    "pd.options.display.float_format = \"{:.2f}\".format\n",
    "%reload_ext nb_black"
   ]
  },
  {
   "cell_type": "markdown",
   "metadata": {},
   "source": [
    "# Initial analysis of Red and White wines.\n",
    "\n",
    "### Features:\n",
    "1. __Fixed Acidity__ - measure of the total concentration of titratable acids and free hydrogen ions.\n",
    "2. __Volatile Acidity__ - measure of the total concentration of ‘volatile acids’ in wine.\n",
    "3. __Citric Acid__ - one of three primary acids found in grapes and converted by the winemaking process.\n",
    "4. __Residual Sugars__ - natural grape sugars that are leftover after fermentation ceases.\n",
    "5. __Chlorides__ - The amount of chlorides in a wine is usually an indicator of its saltiness.\n",
    "6. __Sulphur Dioxide levels__ - Sulphur dioxide (SO2) is used as an antioxidant and preservative and has become widely used in winemaking\n",
    "7. __Density__ -  measure of the alcohol concentration in wines.\n",
    "8. __pH__ - (power of hydrogen) - measure of the hydrogen ion concentration in the solution. \n",
    "9. __Sulphates__ - Salts of sulfuric acid in wine.\n",
    "10. __Alcohol__\n",
    "\n"
   ]
  },
  {
   "cell_type": "code",
   "execution_count": 3,
   "metadata": {},
   "outputs": [
    {
     "data": {
      "text/html": [
       "<div>\n",
       "<style scoped>\n",
       "    .dataframe tbody tr th:only-of-type {\n",
       "        vertical-align: middle;\n",
       "    }\n",
       "\n",
       "    .dataframe tbody tr th {\n",
       "        vertical-align: top;\n",
       "    }\n",
       "\n",
       "    .dataframe thead th {\n",
       "        text-align: right;\n",
       "    }\n",
       "</style>\n",
       "<table border=\"1\" class=\"dataframe\">\n",
       "  <thead>\n",
       "    <tr style=\"text-align: right;\">\n",
       "      <th></th>\n",
       "      <th>fixed acidity</th>\n",
       "      <th>volatile acidity</th>\n",
       "      <th>citric acid</th>\n",
       "      <th>residual sugar</th>\n",
       "      <th>chlorides</th>\n",
       "      <th>free sulfur dioxide</th>\n",
       "      <th>total sulfur dioxide</th>\n",
       "      <th>density</th>\n",
       "      <th>pH</th>\n",
       "      <th>sulphates</th>\n",
       "      <th>alcohol</th>\n",
       "      <th>quality</th>\n",
       "    </tr>\n",
       "  </thead>\n",
       "  <tbody>\n",
       "    <tr>\n",
       "      <th>count</th>\n",
       "      <td>6497.00</td>\n",
       "      <td>6497.00</td>\n",
       "      <td>6497.00</td>\n",
       "      <td>6497.00</td>\n",
       "      <td>6497.00</td>\n",
       "      <td>6497.00</td>\n",
       "      <td>6497.00</td>\n",
       "      <td>6497.00</td>\n",
       "      <td>6497.00</td>\n",
       "      <td>6497.00</td>\n",
       "      <td>6497.00</td>\n",
       "      <td>6497.00</td>\n",
       "    </tr>\n",
       "    <tr>\n",
       "      <th>mean</th>\n",
       "      <td>7.22</td>\n",
       "      <td>0.34</td>\n",
       "      <td>0.32</td>\n",
       "      <td>5.44</td>\n",
       "      <td>0.06</td>\n",
       "      <td>30.53</td>\n",
       "      <td>115.74</td>\n",
       "      <td>0.99</td>\n",
       "      <td>3.22</td>\n",
       "      <td>0.53</td>\n",
       "      <td>10.49</td>\n",
       "      <td>5.82</td>\n",
       "    </tr>\n",
       "    <tr>\n",
       "      <th>std</th>\n",
       "      <td>1.30</td>\n",
       "      <td>0.16</td>\n",
       "      <td>0.15</td>\n",
       "      <td>4.76</td>\n",
       "      <td>0.04</td>\n",
       "      <td>17.75</td>\n",
       "      <td>56.52</td>\n",
       "      <td>0.00</td>\n",
       "      <td>0.16</td>\n",
       "      <td>0.15</td>\n",
       "      <td>1.19</td>\n",
       "      <td>0.87</td>\n",
       "    </tr>\n",
       "    <tr>\n",
       "      <th>min</th>\n",
       "      <td>3.80</td>\n",
       "      <td>0.08</td>\n",
       "      <td>0.00</td>\n",
       "      <td>0.60</td>\n",
       "      <td>0.01</td>\n",
       "      <td>1.00</td>\n",
       "      <td>6.00</td>\n",
       "      <td>0.99</td>\n",
       "      <td>2.72</td>\n",
       "      <td>0.22</td>\n",
       "      <td>8.00</td>\n",
       "      <td>3.00</td>\n",
       "    </tr>\n",
       "    <tr>\n",
       "      <th>25%</th>\n",
       "      <td>6.40</td>\n",
       "      <td>0.23</td>\n",
       "      <td>0.25</td>\n",
       "      <td>1.80</td>\n",
       "      <td>0.04</td>\n",
       "      <td>17.00</td>\n",
       "      <td>77.00</td>\n",
       "      <td>0.99</td>\n",
       "      <td>3.11</td>\n",
       "      <td>0.43</td>\n",
       "      <td>9.50</td>\n",
       "      <td>5.00</td>\n",
       "    </tr>\n",
       "    <tr>\n",
       "      <th>50%</th>\n",
       "      <td>7.00</td>\n",
       "      <td>0.29</td>\n",
       "      <td>0.31</td>\n",
       "      <td>3.00</td>\n",
       "      <td>0.05</td>\n",
       "      <td>29.00</td>\n",
       "      <td>118.00</td>\n",
       "      <td>0.99</td>\n",
       "      <td>3.21</td>\n",
       "      <td>0.51</td>\n",
       "      <td>10.30</td>\n",
       "      <td>6.00</td>\n",
       "    </tr>\n",
       "    <tr>\n",
       "      <th>75%</th>\n",
       "      <td>7.70</td>\n",
       "      <td>0.40</td>\n",
       "      <td>0.39</td>\n",
       "      <td>8.10</td>\n",
       "      <td>0.07</td>\n",
       "      <td>41.00</td>\n",
       "      <td>156.00</td>\n",
       "      <td>1.00</td>\n",
       "      <td>3.32</td>\n",
       "      <td>0.60</td>\n",
       "      <td>11.30</td>\n",
       "      <td>6.00</td>\n",
       "    </tr>\n",
       "    <tr>\n",
       "      <th>max</th>\n",
       "      <td>15.90</td>\n",
       "      <td>1.58</td>\n",
       "      <td>1.66</td>\n",
       "      <td>65.80</td>\n",
       "      <td>0.61</td>\n",
       "      <td>289.00</td>\n",
       "      <td>440.00</td>\n",
       "      <td>1.04</td>\n",
       "      <td>4.01</td>\n",
       "      <td>2.00</td>\n",
       "      <td>14.90</td>\n",
       "      <td>9.00</td>\n",
       "    </tr>\n",
       "  </tbody>\n",
       "</table>\n",
       "</div>"
      ],
      "text/plain": [
       "       fixed acidity  volatile acidity  citric acid  residual sugar  \\\n",
       "count        6497.00           6497.00      6497.00         6497.00   \n",
       "mean            7.22              0.34         0.32            5.44   \n",
       "std             1.30              0.16         0.15            4.76   \n",
       "min             3.80              0.08         0.00            0.60   \n",
       "25%             6.40              0.23         0.25            1.80   \n",
       "50%             7.00              0.29         0.31            3.00   \n",
       "75%             7.70              0.40         0.39            8.10   \n",
       "max            15.90              1.58         1.66           65.80   \n",
       "\n",
       "       chlorides  free sulfur dioxide  total sulfur dioxide  density      pH  \\\n",
       "count    6497.00              6497.00               6497.00  6497.00 6497.00   \n",
       "mean        0.06                30.53                115.74     0.99    3.22   \n",
       "std         0.04                17.75                 56.52     0.00    0.16   \n",
       "min         0.01                 1.00                  6.00     0.99    2.72   \n",
       "25%         0.04                17.00                 77.00     0.99    3.11   \n",
       "50%         0.05                29.00                118.00     0.99    3.21   \n",
       "75%         0.07                41.00                156.00     1.00    3.32   \n",
       "max         0.61               289.00                440.00     1.04    4.01   \n",
       "\n",
       "       sulphates  alcohol  quality  \n",
       "count    6497.00  6497.00  6497.00  \n",
       "mean        0.53    10.49     5.82  \n",
       "std         0.15     1.19     0.87  \n",
       "min         0.22     8.00     3.00  \n",
       "25%         0.43     9.50     5.00  \n",
       "50%         0.51    10.30     6.00  \n",
       "75%         0.60    11.30     6.00  \n",
       "max         2.00    14.90     9.00  "
      ]
     },
     "execution_count": 3,
     "metadata": {},
     "output_type": "execute_result"
    }
   ],
   "source": [
    "data_r = pd.read_csv(r'Wine\\winequality_red.csv')\n",
    "data_w = pd.read_csv(r'Wine\\winequality_white.csv')\n",
    "data_r.columns == data_w.columns # Check if red wines and white wines have same columns [features]\n",
    "data_r['color'] = 'Red'\n",
    "data_w['color'] = 'White'\n",
    "wines = pd.concat([data_r,data_w],axis=0)\n",
    "wines.describe()"
   ]
  },
  {
   "cell_type": "code",
   "execution_count": 33,
   "metadata": {},
   "outputs": [
    {
     "name": "stdout",
     "output_type": "stream",
     "text": [
      "Mode for Red wines is 5 and for White wine mode is 6\n"
     ]
    }
   ],
   "source": [
    "mode_r,mode_w = data_r['quality'].mode(),data_w['quality'].mode()\n",
    "print(f'Mode for Red wines is {int(mode_r)} and for White wine mode is {int(mode_w)}')"
   ]
  },
  {
   "cell_type": "code",
   "execution_count": 10,
   "metadata": {},
   "outputs": [
    {
     "data": {
      "image/png": "[encoded data removed]",
      "text/plain": [
       "<Figure size 864x504 with 2 Axes>"
      ]
     },
     "metadata": {
      "needs_background": "light"
     },
     "output_type": "display_data"
    }
   ],
   "source": [
    "from matplotlib import cm\n",
    "f, ax = plt.subplots(1,2,figsize=(12,7))\n",
    "sns.countplot(data=wines,x='color',palette='cividis_r',ax=ax[0])\n",
    "color = cm.cividis(np.linspace(.4,.6, 2))\n",
    "my_circle=plt.Circle( (0,0), 0.8, color='white')\n",
    "names=wines['color'].value_counts().index.tolist()\n",
    "size=wines['color'].value_counts().values.tolist()\n",
    "plt.pie(size, labels=names, colors=color,autopct='%1.2f%%',explode = (0.001,0.001),startangle=90)\n",
    "p=plt.gcf()\n",
    "p.gca().add_artist(my_circle)\n",
    "f.suptitle(\"Red & White Wines Count and Share\", fontsize=16)\n",
    "plt.show()"
   ]
  },
  {
   "cell_type": "code",
   "execution_count": 30,
   "metadata": {},
   "outputs": [],
   "source": [
    "quality = wines.groupby('color').agg(['mean','std','count','min','max'])['quality']\n",
    "quality = quality.reset_index()"
   ]
  },
  {
   "cell_type": "code",
   "execution_count": 32,
   "metadata": {},
   "outputs": [
    {
     "data": {
      "text/plain": [
       "''"
      ]
     },
     "execution_count": 32,
     "metadata": {},
     "output_type": "execute_result"
    },
    {
     "data": {
      "image/png": "[encoded data removed]",
      "text/plain": [
       "<Figure size 864x504 with 2 Axes>"
      ]
     },
     "metadata": {
      "needs_background": "light"
     },
     "output_type": "display_data"
    }
   ],
   "source": [
    "f, ax = plt.subplots(1,2,figsize=(12,7))\n",
    "sns.barplot(data=quality,y='mean',x='color',palette='tab20b_d',saturation=0.9,ax=ax[0]);\n",
    "sns.boxplot(data=wines,y='quality',linewidth=2.5,x='color',palette='tab20b_d',ax=ax[1])#showmeans=True);\n",
    "f.suptitle(\"Red & White Wines Quality (Mean)\", fontsize=16);\n",
    ";"
   ]
  },
  {
   "cell_type": "markdown",
   "metadata": {},
   "source": [
    "We can see that there is much more White Wines in our dataset. __75%__ of wines are white. Average quality of White wines is bigger then White wines, and also white wines has bigger max quality value.\n",
    "* Red color wines: __1599__ \n",
    "* White color wines: __4898__\n",
    "* Red wines average quality:  __5.64__ \n",
    "* White wines average quality:  __5.88__ \n",
    "* Red wines min quality: __3__ \n",
    "* Red wines max quality: __8__\n",
    "* White wines min quality: __3__\n",
    "* White wines max quality: __9__\n",
    "* Mode for Red wines is __5__\n",
    "* Mode for White wine is __6__"
   ]
  },
  {
   "cell_type": "markdown",
   "metadata": {},
   "source": [
    "## Red Wines Analysis \n",
    "Let's split our data to red wines & white wines. First I'll try to analyse Red wines."
   ]
  },
  {
   "cell_type": "code",
   "execution_count": 36,
   "metadata": {},
   "outputs": [
    {
     "data": {
      "text/html": [
       "<div>\n",
       "<style scoped>\n",
       "    .dataframe tbody tr th:only-of-type {\n",
       "        vertical-align: middle;\n",
       "    }\n",
       "\n",
       "    .dataframe tbody tr th {\n",
       "        vertical-align: top;\n",
       "    }\n",
       "\n",
       "    .dataframe thead th {\n",
       "        text-align: right;\n",
       "    }\n",
       "</style>\n",
       "<table border=\"1\" class=\"dataframe\">\n",
       "  <thead>\n",
       "    <tr style=\"text-align: right;\">\n",
       "      <th></th>\n",
       "      <th>fixed acidity</th>\n",
       "      <th>volatile acidity</th>\n",
       "      <th>citric acid</th>\n",
       "      <th>residual sugar</th>\n",
       "      <th>chlorides</th>\n",
       "      <th>free sulfur dioxide</th>\n",
       "      <th>total sulfur dioxide</th>\n",
       "      <th>density</th>\n",
       "      <th>pH</th>\n",
       "      <th>sulphates</th>\n",
       "      <th>alcohol</th>\n",
       "      <th>quality</th>\n",
       "    </tr>\n",
       "  </thead>\n",
       "  <tbody>\n",
       "    <tr>\n",
       "      <th>count</th>\n",
       "      <td>1599.00</td>\n",
       "      <td>1599.00</td>\n",
       "      <td>1599.00</td>\n",
       "      <td>1599.00</td>\n",
       "      <td>1599.00</td>\n",
       "      <td>1599.00</td>\n",
       "      <td>1599.00</td>\n",
       "      <td>1599.00</td>\n",
       "      <td>1599.00</td>\n",
       "      <td>1599.00</td>\n",
       "      <td>1599.00</td>\n",
       "      <td>1599.00</td>\n",
       "    </tr>\n",
       "    <tr>\n",
       "      <th>mean</th>\n",
       "      <td>8.32</td>\n",
       "      <td>0.53</td>\n",
       "      <td>0.27</td>\n",
       "      <td>2.54</td>\n",
       "      <td>0.09</td>\n",
       "      <td>15.87</td>\n",
       "      <td>46.47</td>\n",
       "      <td>1.00</td>\n",
       "      <td>3.31</td>\n",
       "      <td>0.66</td>\n",
       "      <td>10.42</td>\n",
       "      <td>5.64</td>\n",
       "    </tr>\n",
       "    <tr>\n",
       "      <th>std</th>\n",
       "      <td>1.74</td>\n",
       "      <td>0.18</td>\n",
       "      <td>0.19</td>\n",
       "      <td>1.41</td>\n",
       "      <td>0.05</td>\n",
       "      <td>10.46</td>\n",
       "      <td>32.90</td>\n",
       "      <td>0.00</td>\n",
       "      <td>0.15</td>\n",
       "      <td>0.17</td>\n",
       "      <td>1.07</td>\n",
       "      <td>0.81</td>\n",
       "    </tr>\n",
       "    <tr>\n",
       "      <th>min</th>\n",
       "      <td>4.60</td>\n",
       "      <td>0.12</td>\n",
       "      <td>0.00</td>\n",
       "      <td>0.90</td>\n",
       "      <td>0.01</td>\n",
       "      <td>1.00</td>\n",
       "      <td>6.00</td>\n",
       "      <td>0.99</td>\n",
       "      <td>2.74</td>\n",
       "      <td>0.33</td>\n",
       "      <td>8.40</td>\n",
       "      <td>3.00</td>\n",
       "    </tr>\n",
       "    <tr>\n",
       "      <th>25%</th>\n",
       "      <td>7.10</td>\n",
       "      <td>0.39</td>\n",
       "      <td>0.09</td>\n",
       "      <td>1.90</td>\n",
       "      <td>0.07</td>\n",
       "      <td>7.00</td>\n",
       "      <td>22.00</td>\n",
       "      <td>1.00</td>\n",
       "      <td>3.21</td>\n",
       "      <td>0.55</td>\n",
       "      <td>9.50</td>\n",
       "      <td>5.00</td>\n",
       "    </tr>\n",
       "    <tr>\n",
       "      <th>50%</th>\n",
       "      <td>7.90</td>\n",
       "      <td>0.52</td>\n",
       "      <td>0.26</td>\n",
       "      <td>2.20</td>\n",
       "      <td>0.08</td>\n",
       "      <td>14.00</td>\n",
       "      <td>38.00</td>\n",
       "      <td>1.00</td>\n",
       "      <td>3.31</td>\n",
       "      <td>0.62</td>\n",
       "      <td>10.20</td>\n",
       "      <td>6.00</td>\n",
       "    </tr>\n",
       "    <tr>\n",
       "      <th>75%</th>\n",
       "      <td>9.20</td>\n",
       "      <td>0.64</td>\n",
       "      <td>0.42</td>\n",
       "      <td>2.60</td>\n",
       "      <td>0.09</td>\n",
       "      <td>21.00</td>\n",
       "      <td>62.00</td>\n",
       "      <td>1.00</td>\n",
       "      <td>3.40</td>\n",
       "      <td>0.73</td>\n",
       "      <td>11.10</td>\n",
       "      <td>6.00</td>\n",
       "    </tr>\n",
       "    <tr>\n",
       "      <th>max</th>\n",
       "      <td>15.90</td>\n",
       "      <td>1.58</td>\n",
       "      <td>1.00</td>\n",
       "      <td>15.50</td>\n",
       "      <td>0.61</td>\n",
       "      <td>72.00</td>\n",
       "      <td>289.00</td>\n",
       "      <td>1.00</td>\n",
       "      <td>4.01</td>\n",
       "      <td>2.00</td>\n",
       "      <td>14.90</td>\n",
       "      <td>8.00</td>\n",
       "    </tr>\n",
       "  </tbody>\n",
       "</table>\n",
       "</div>"
      ],
      "text/plain": [
       "       fixed acidity  volatile acidity  citric acid  residual sugar  \\\n",
       "count        1599.00           1599.00      1599.00         1599.00   \n",
       "mean            8.32              0.53         0.27            2.54   \n",
       "std             1.74              0.18         0.19            1.41   \n",
       "min             4.60              0.12         0.00            0.90   \n",
       "25%             7.10              0.39         0.09            1.90   \n",
       "50%             7.90              0.52         0.26            2.20   \n",
       "75%             9.20              0.64         0.42            2.60   \n",
       "max            15.90              1.58         1.00           15.50   \n",
       "\n",
       "       chlorides  free sulfur dioxide  total sulfur dioxide  density      pH  \\\n",
       "count    1599.00              1599.00               1599.00  1599.00 1599.00   \n",
       "mean        0.09                15.87                 46.47     1.00    3.31   \n",
       "std         0.05                10.46                 32.90     0.00    0.15   \n",
       "min         0.01                 1.00                  6.00     0.99    2.74   \n",
       "25%         0.07                 7.00                 22.00     1.00    3.21   \n",
       "50%         0.08                14.00                 38.00     1.00    3.31   \n",
       "75%         0.09                21.00                 62.00     1.00    3.40   \n",
       "max         0.61                72.00                289.00     1.00    4.01   \n",
       "\n",
       "       sulphates  alcohol  quality  \n",
       "count    1599.00  1599.00  1599.00  \n",
       "mean        0.66    10.42     5.64  \n",
       "std         0.17     1.07     0.81  \n",
       "min         0.33     8.40     3.00  \n",
       "25%         0.55     9.50     5.00  \n",
       "50%         0.62    10.20     6.00  \n",
       "75%         0.73    11.10     6.00  \n",
       "max         2.00    14.90     8.00  "
      ]
     },
     "execution_count": 36,
     "metadata": {},
     "output_type": "execute_result"
    }
   ],
   "source": [
    "data_r.describe()"
   ]
  },
  {
   "cell_type": "code",
   "execution_count": 57,
   "metadata": {},
   "outputs": [],
   "source": [
    "def strong(alcohol): #Function that will split our data to 4 categories\n",
    "    if alcohol <= 9:\n",
    "        return 'Light'\n",
    "    elif alcohol >9 and alcohol <=11:\n",
    "        return 'Medium'\n",
    "    elif alcohol >11 and alcohol <=14:\n",
    "        return 'Strong'\n",
    "    else:\n",
    "        return 'Very Strong'"
   ]
  },
  {
   "cell_type": "code",
   "execution_count": 58,
   "metadata": {},
   "outputs": [],
   "source": [
    "#Apply our function into new column with strenght of alcohol\n",
    "data_r['Strength'] = data_r['alcohol'].apply(strong) "
   ]
  },
  {
   "cell_type": "code",
   "execution_count": 59,
   "metadata": {},
   "outputs": [
    {
     "data": {
      "text/html": [
       "<div>\n",
       "<style scoped>\n",
       "    .dataframe tbody tr th:only-of-type {\n",
       "        vertical-align: middle;\n",
       "    }\n",
       "\n",
       "    .dataframe tbody tr th {\n",
       "        vertical-align: top;\n",
       "    }\n",
       "\n",
       "    .dataframe thead th {\n",
       "        text-align: right;\n",
       "    }\n",
       "</style>\n",
       "<table border=\"1\" class=\"dataframe\">\n",
       "  <thead>\n",
       "    <tr style=\"text-align: right;\">\n",
       "      <th></th>\n",
       "      <th>fixed acidity</th>\n",
       "      <th>volatile acidity</th>\n",
       "      <th>citric acid</th>\n",
       "      <th>residual sugar</th>\n",
       "      <th>chlorides</th>\n",
       "      <th>free sulfur dioxide</th>\n",
       "      <th>total sulfur dioxide</th>\n",
       "      <th>density</th>\n",
       "      <th>pH</th>\n",
       "      <th>sulphates</th>\n",
       "      <th>alcohol</th>\n",
       "      <th>quality</th>\n",
       "      <th>color</th>\n",
       "      <th>Strength</th>\n",
       "    </tr>\n",
       "  </thead>\n",
       "  <tbody>\n",
       "    <tr>\n",
       "      <th>1126</th>\n",
       "      <td>5.80</td>\n",
       "      <td>0.29</td>\n",
       "      <td>0.26</td>\n",
       "      <td>1.70</td>\n",
       "      <td>0.06</td>\n",
       "      <td>3.00</td>\n",
       "      <td>11.00</td>\n",
       "      <td>0.99</td>\n",
       "      <td>3.39</td>\n",
       "      <td>0.54</td>\n",
       "      <td>13.50</td>\n",
       "      <td>6</td>\n",
       "      <td>Red</td>\n",
       "      <td>Strong</td>\n",
       "    </tr>\n",
       "    <tr>\n",
       "      <th>1120</th>\n",
       "      <td>7.90</td>\n",
       "      <td>0.54</td>\n",
       "      <td>0.34</td>\n",
       "      <td>2.50</td>\n",
       "      <td>0.08</td>\n",
       "      <td>8.00</td>\n",
       "      <td>17.00</td>\n",
       "      <td>0.99</td>\n",
       "      <td>3.20</td>\n",
       "      <td>0.72</td>\n",
       "      <td>13.10</td>\n",
       "      <td>8</td>\n",
       "      <td>Red</td>\n",
       "      <td>Strong</td>\n",
       "    </tr>\n",
       "    <tr>\n",
       "      <th>1431</th>\n",
       "      <td>7.60</td>\n",
       "      <td>0.43</td>\n",
       "      <td>0.31</td>\n",
       "      <td>2.10</td>\n",
       "      <td>0.07</td>\n",
       "      <td>13.00</td>\n",
       "      <td>74.00</td>\n",
       "      <td>1.00</td>\n",
       "      <td>3.26</td>\n",
       "      <td>0.54</td>\n",
       "      <td>9.90</td>\n",
       "      <td>6</td>\n",
       "      <td>Red</td>\n",
       "      <td>Medium</td>\n",
       "    </tr>\n",
       "  </tbody>\n",
       "</table>\n",
       "</div>"
      ],
      "text/plain": [
       "      fixed acidity  volatile acidity  citric acid  residual sugar  chlorides  \\\n",
       "1126           5.80              0.29         0.26            1.70       0.06   \n",
       "1120           7.90              0.54         0.34            2.50       0.08   \n",
       "1431           7.60              0.43         0.31            2.10       0.07   \n",
       "\n",
       "      free sulfur dioxide  total sulfur dioxide  density   pH  sulphates  \\\n",
       "1126                 3.00                 11.00     0.99 3.39       0.54   \n",
       "1120                 8.00                 17.00     0.99 3.20       0.72   \n",
       "1431                13.00                 74.00     1.00 3.26       0.54   \n",
       "\n",
       "      alcohol  quality color Strength  \n",
       "1126    13.50        6   Red   Strong  \n",
       "1120    13.10        8   Red   Strong  \n",
       "1431     9.90        6   Red   Medium  "
      ]
     },
     "execution_count": 59,
     "metadata": {},
     "output_type": "execute_result"
    }
   ],
   "source": [
    "data_r.sample(3)"
   ]
  },
  {
   "cell_type": "code",
   "execution_count": 191,
   "metadata": {},
   "outputs": [],
   "source": [
    "a =data_r.groupby('Strength')['Strength'].count()/len(data_r)\n",
    "b =data_r.groupby('Strength')['Strength'].count()\n",
    "df = pd.concat([a,b],axis=1)\n",
    "df.columns = ['pct','count']"
   ]
  },
  {
   "cell_type": "code",
   "execution_count": 192,
   "metadata": {},
   "outputs": [
    {
     "data": {
      "image/png": "[encoded data removed]",
      "text/plain": [
       "<Figure size 864x432 with 2 Axes>"
      ]
     },
     "metadata": {
      "needs_background": "light"
     },
     "output_type": "display_data"
    },
    {
     "data": {
      "image/png": "[encoded data removed]",
      "text/plain": [
       "<Figure size 864x144 with 1 Axes>"
      ]
     },
     "metadata": {
      "needs_background": "light"
     },
     "output_type": "display_data"
    }
   ],
   "source": [
    "f, ax = plt.subplots(1,2,figsize=(12,6))\n",
    "sns.countplot(x='Strength', data=data_r.sort_values(by='Strength'),palette='cividis_r',saturation=0.9,ax=ax[0]).set_title('Distribution of Red Wine Strength')\n",
    "sns.countplot(x='quality', data=data_r.sort_values(by='quality'),palette='Oranges',saturation=0.9,ax=ax[1]).set_title('Distribution of Red Wine Quality');\n",
    "plt.figure(figsize=(12,2))\n",
    "sns.barplot(data=df, x='pct',y=df.index,palette='ocean_d',saturation=0.75);\n",
    "plt.xlabel('')\n",
    "plt.ylabel('');"
   ]
  },
  {
   "cell_type": "markdown",
   "metadata": {},
   "source": [
    "We can see that most of wines are in \"medium\" group which is from 9-11 alcohol.\n",
    "* Light:\t__37__ _(2.31%)_\n",
    "* Medium:\t__1154__ _(72.17%)_\n",
    "* Strong:\t__407__ _(25.45%)_\n",
    "* Very Strong:\t__1__ _(0.06%)_"
   ]
  },
  {
   "cell_type": "code",
   "execution_count": 216,
   "metadata": {},
   "outputs": [
    {
     "data": {
      "image/png": "[encoded data removed]",
      "text/plain": [
       "<Figure size 508x432 with 1 Axes>"
      ]
     },
     "metadata": {
      "needs_background": "light"
     },
     "output_type": "display_data"
    }
   ],
   "source": [
    "sns.catplot(y=\"quality\", hue=\"Strength\", kind=\"count\",\n",
    "            palette=\"cividis_r\", edgecolor=\".6\",\n",
    "            data=data_r[data_r['Strength']!='Very Strong'],height=6);"
   ]
  },
  {
   "cell_type": "code",
   "execution_count": null,
   "metadata": {},
   "outputs": [],
   "source": []
  }
 ],
 "metadata": {
  "kernelspec": {
   "display_name": "Python 3",
   "language": "python",
   "name": "python3"
  },
  "language_info": {
   "codemirror_mode": {
    "name": "ipython",
    "version": 3
   },
   "file_extension": ".py",
   "mimetype": "text/x-python",
   "name": "python",
   "nbconvert_exporter": "python",
   "pygments_lexer": "ipython3",
   "version": "3.7.1"
  }
 },
 "nbformat": 4,
 "nbformat_minor": 2
}
