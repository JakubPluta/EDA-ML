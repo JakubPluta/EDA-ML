{
 "cells": [
  {
   "cell_type": "code",
   "execution_count": 1,
   "metadata": {},
   "outputs": [],
   "source": [
    "import numpy as np\n",
    "import pandas as pd\n",
    "import matplotlib\n",
    "import matplotlib.pyplot as plt\n",
    "import pycountry\n",
    "import squarify\n",
    "from collections import Counter\n",
    "import warnings\n",
    "import seaborn as sns\n",
    "sns.set_style('white')\n",
    "warnings.filterwarnings('ignore')\n",
    "from scipy.stats import norm\n",
    "pd.options.display.float_format = \"{:.2f}\".format\n",
    "import re\n",
    "import os\n",
    "from matplotlib import cm\n",
    "from wordcloud import WordCloud, STOPWORDS"
   ]
  },
  {
   "cell_type": "code",
   "execution_count": 2,
   "metadata": {},
   "outputs": [],
   "source": [
    "kiva = pd.read_csv(r\"Kiva\\kiva_loans.csv\")\n",
    "kiva_loc = pd.read_csv(r\"Kiva\\kiva_mpi_region_locations.csv\")"
   ]
  },
  {
   "cell_type": "code",
   "execution_count": 3,
   "metadata": {},
   "outputs": [
    {
     "name": "stdout",
     "output_type": "stream",
     "text": [
      "Kiva Shape:  (671205, 20) \n",
      "\n"
     ]
    }
   ],
   "source": [
    "print('Kiva Shape: ',kiva.shape,'\\n')"
   ]
  },
  {
   "cell_type": "code",
   "execution_count": 4,
   "metadata": {},
   "outputs": [
    {
     "data": {
      "text/html": [
       "<div>\n",
       "<style scoped>\n",
       "    .dataframe tbody tr th:only-of-type {\n",
       "        vertical-align: middle;\n",
       "    }\n",
       "\n",
       "    .dataframe tbody tr th {\n",
       "        vertical-align: top;\n",
       "    }\n",
       "\n",
       "    .dataframe thead th {\n",
       "        text-align: right;\n",
       "    }\n",
       "</style>\n",
       "<table border=\"1\" class=\"dataframe\">\n",
       "  <thead>\n",
       "    <tr style=\"text-align: right;\">\n",
       "      <th></th>\n",
       "      <th>id</th>\n",
       "      <th>funded_amount</th>\n",
       "      <th>loan_amount</th>\n",
       "      <th>partner_id</th>\n",
       "      <th>term_in_months</th>\n",
       "      <th>lender_count</th>\n",
       "    </tr>\n",
       "  </thead>\n",
       "  <tbody>\n",
       "    <tr>\n",
       "      <th>count</th>\n",
       "      <td>671205.00</td>\n",
       "      <td>671205.00</td>\n",
       "      <td>671205.00</td>\n",
       "      <td>657698.00</td>\n",
       "      <td>671205.00</td>\n",
       "      <td>671205.00</td>\n",
       "    </tr>\n",
       "    <tr>\n",
       "      <th>mean</th>\n",
       "      <td>993248.59</td>\n",
       "      <td>786.00</td>\n",
       "      <td>842.40</td>\n",
       "      <td>178.20</td>\n",
       "      <td>13.74</td>\n",
       "      <td>20.59</td>\n",
       "    </tr>\n",
       "    <tr>\n",
       "      <th>std</th>\n",
       "      <td>196611.28</td>\n",
       "      <td>1130.40</td>\n",
       "      <td>1198.66</td>\n",
       "      <td>94.25</td>\n",
       "      <td>8.60</td>\n",
       "      <td>28.46</td>\n",
       "    </tr>\n",
       "    <tr>\n",
       "      <th>min</th>\n",
       "      <td>653047.00</td>\n",
       "      <td>0.00</td>\n",
       "      <td>25.00</td>\n",
       "      <td>9.00</td>\n",
       "      <td>1.00</td>\n",
       "      <td>0.00</td>\n",
       "    </tr>\n",
       "    <tr>\n",
       "      <th>25%</th>\n",
       "      <td>823072.00</td>\n",
       "      <td>250.00</td>\n",
       "      <td>275.00</td>\n",
       "      <td>126.00</td>\n",
       "      <td>8.00</td>\n",
       "      <td>7.00</td>\n",
       "    </tr>\n",
       "    <tr>\n",
       "      <th>50%</th>\n",
       "      <td>992780.00</td>\n",
       "      <td>450.00</td>\n",
       "      <td>500.00</td>\n",
       "      <td>145.00</td>\n",
       "      <td>13.00</td>\n",
       "      <td>13.00</td>\n",
       "    </tr>\n",
       "    <tr>\n",
       "      <th>75%</th>\n",
       "      <td>1163653.00</td>\n",
       "      <td>900.00</td>\n",
       "      <td>1000.00</td>\n",
       "      <td>204.00</td>\n",
       "      <td>14.00</td>\n",
       "      <td>24.00</td>\n",
       "    </tr>\n",
       "    <tr>\n",
       "      <th>max</th>\n",
       "      <td>1340339.00</td>\n",
       "      <td>100000.00</td>\n",
       "      <td>100000.00</td>\n",
       "      <td>536.00</td>\n",
       "      <td>158.00</td>\n",
       "      <td>2986.00</td>\n",
       "    </tr>\n",
       "  </tbody>\n",
       "</table>\n",
       "</div>"
      ],
      "text/plain": [
       "              id  funded_amount  loan_amount  partner_id  term_in_months  \\\n",
       "count  671205.00      671205.00    671205.00   657698.00       671205.00   \n",
       "mean   993248.59         786.00       842.40      178.20           13.74   \n",
       "std    196611.28        1130.40      1198.66       94.25            8.60   \n",
       "min    653047.00           0.00        25.00        9.00            1.00   \n",
       "25%    823072.00         250.00       275.00      126.00            8.00   \n",
       "50%    992780.00         450.00       500.00      145.00           13.00   \n",
       "75%   1163653.00         900.00      1000.00      204.00           14.00   \n",
       "max   1340339.00      100000.00    100000.00      536.00          158.00   \n",
       "\n",
       "       lender_count  \n",
       "count     671205.00  \n",
       "mean          20.59  \n",
       "std           28.46  \n",
       "min            0.00  \n",
       "25%            7.00  \n",
       "50%           13.00  \n",
       "75%           24.00  \n",
       "max         2986.00  "
      ]
     },
     "execution_count": 4,
     "metadata": {},
     "output_type": "execute_result"
    }
   ],
   "source": [
    "kiva.describe()"
   ]
  },
  {
   "cell_type": "code",
   "execution_count": 5,
   "metadata": {},
   "outputs": [
    {
     "data": {
      "text/html": [
       "<div>\n",
       "<style scoped>\n",
       "    .dataframe tbody tr th:only-of-type {\n",
       "        vertical-align: middle;\n",
       "    }\n",
       "\n",
       "    .dataframe tbody tr th {\n",
       "        vertical-align: top;\n",
       "    }\n",
       "\n",
       "    .dataframe thead th {\n",
       "        text-align: right;\n",
       "    }\n",
       "</style>\n",
       "<table border=\"1\" class=\"dataframe\">\n",
       "  <thead>\n",
       "    <tr style=\"text-align: right;\">\n",
       "      <th></th>\n",
       "      <th>total_missing</th>\n",
       "      <th>%_missing</th>\n",
       "    </tr>\n",
       "  </thead>\n",
       "  <tbody>\n",
       "    <tr>\n",
       "      <th>tags</th>\n",
       "      <td>171416</td>\n",
       "      <td>25.54</td>\n",
       "    </tr>\n",
       "    <tr>\n",
       "      <th>region</th>\n",
       "      <td>56800</td>\n",
       "      <td>8.46</td>\n",
       "    </tr>\n",
       "    <tr>\n",
       "      <th>funded_time</th>\n",
       "      <td>48331</td>\n",
       "      <td>7.20</td>\n",
       "    </tr>\n",
       "    <tr>\n",
       "      <th>partner_id</th>\n",
       "      <td>13507</td>\n",
       "      <td>2.01</td>\n",
       "    </tr>\n",
       "    <tr>\n",
       "      <th>use</th>\n",
       "      <td>4232</td>\n",
       "      <td>0.63</td>\n",
       "    </tr>\n",
       "  </tbody>\n",
       "</table>\n",
       "</div>"
      ],
      "text/plain": [
       "             total_missing  %_missing\n",
       "tags                171416      25.54\n",
       "region               56800       8.46\n",
       "funded_time          48331       7.20\n",
       "partner_id           13507       2.01\n",
       "use                   4232       0.63"
      ]
     },
     "execution_count": 5,
     "metadata": {},
     "output_type": "execute_result"
    }
   ],
   "source": [
    "t1 = kiva.isnull().sum().sort_values(ascending=False)\n",
    "p1 = (kiva.isnull().sum()/kiva.isnull().count()).sort_values(ascending=False)*100\n",
    "m1 = pd.concat([t1, p1], axis=1, keys=['total_missing', '%_missing'])\n",
    "m1.head()"
   ]
  },
  {
   "cell_type": "code",
   "execution_count": 6,
   "metadata": {},
   "outputs": [
    {
     "data": {
      "text/html": [
       "<div>\n",
       "<style scoped>\n",
       "    .dataframe tbody tr th:only-of-type {\n",
       "        vertical-align: middle;\n",
       "    }\n",
       "\n",
       "    .dataframe tbody tr th {\n",
       "        vertical-align: top;\n",
       "    }\n",
       "\n",
       "    .dataframe thead th {\n",
       "        text-align: right;\n",
       "    }\n",
       "</style>\n",
       "<table border=\"1\" class=\"dataframe\">\n",
       "  <thead>\n",
       "    <tr style=\"text-align: right;\">\n",
       "      <th></th>\n",
       "      <th>id</th>\n",
       "      <th>funded_amount</th>\n",
       "      <th>loan_amount</th>\n",
       "      <th>activity</th>\n",
       "      <th>sector</th>\n",
       "      <th>use</th>\n",
       "      <th>country_code</th>\n",
       "      <th>country</th>\n",
       "      <th>region</th>\n",
       "      <th>currency</th>\n",
       "      <th>partner_id</th>\n",
       "      <th>posted_time</th>\n",
       "      <th>disbursed_time</th>\n",
       "      <th>funded_time</th>\n",
       "      <th>term_in_months</th>\n",
       "      <th>lender_count</th>\n",
       "      <th>tags</th>\n",
       "      <th>borrower_genders</th>\n",
       "      <th>repayment_interval</th>\n",
       "      <th>date</th>\n",
       "    </tr>\n",
       "  </thead>\n",
       "  <tbody>\n",
       "    <tr>\n",
       "      <th>372577</th>\n",
       "      <td>1019246</td>\n",
       "      <td>400.00</td>\n",
       "      <td>400.00</td>\n",
       "      <td>Motorcycle Transport</td>\n",
       "      <td>Transportation</td>\n",
       "      <td>to add to her savings to purchase another moto...</td>\n",
       "      <td>KE</td>\n",
       "      <td>Kenya</td>\n",
       "      <td>Mwambalazi</td>\n",
       "      <td>KES</td>\n",
       "      <td>164.00</td>\n",
       "      <td>2016-02-08 06:01:25+00:00</td>\n",
       "      <td>2016-02-08 08:00:00+00:00</td>\n",
       "      <td>2016-02-17 22:59:08+00:00</td>\n",
       "      <td>13.00</td>\n",
       "      <td>14</td>\n",
       "      <td>user_favorite, #Parent, #Biz Durable Asset, #W...</td>\n",
       "      <td>female</td>\n",
       "      <td>irregular</td>\n",
       "      <td>2016-02-08</td>\n",
       "    </tr>\n",
       "  </tbody>\n",
       "</table>\n",
       "</div>"
      ],
      "text/plain": [
       "             id  funded_amount  loan_amount              activity  \\\n",
       "372577  1019246         400.00       400.00  Motorcycle Transport   \n",
       "\n",
       "                sector                                                use  \\\n",
       "372577  Transportation  to add to her savings to purchase another moto...   \n",
       "\n",
       "       country_code country      region currency  partner_id  \\\n",
       "372577           KE   Kenya  Mwambalazi      KES      164.00   \n",
       "\n",
       "                      posted_time             disbursed_time  \\\n",
       "372577  2016-02-08 06:01:25+00:00  2016-02-08 08:00:00+00:00   \n",
       "\n",
       "                      funded_time  term_in_months  lender_count  \\\n",
       "372577  2016-02-17 22:59:08+00:00           13.00            14   \n",
       "\n",
       "                                                     tags borrower_genders  \\\n",
       "372577  user_favorite, #Parent, #Biz Durable Asset, #W...           female   \n",
       "\n",
       "       repayment_interval        date  \n",
       "372577          irregular  2016-02-08  "
      ]
     },
     "execution_count": 6,
     "metadata": {},
     "output_type": "execute_result"
    }
   ],
   "source": [
    "kiva.sample(1)"
   ]
  },
  {
   "cell_type": "markdown",
   "metadata": {},
   "source": [
    "# Loans by Countries"
   ]
  },
  {
   "cell_type": "code",
   "execution_count": 16,
   "metadata": {},
   "outputs": [
    {
     "data": {
      "text/plain": [
       "Philippines    160441\n",
       "Kenya           75825\n",
       "El Salvador     39875\n",
       "Cambodia        34836\n",
       "Pakistan        26857\n",
       "Name: country, dtype: int64"
      ]
     },
     "execution_count": 16,
     "metadata": {},
     "output_type": "execute_result"
    }
   ],
   "source": [
    "kiva.country.value_counts().head(5)"
   ]
  },
  {
   "cell_type": "code",
   "execution_count": 22,
   "metadata": {},
   "outputs": [
    {
     "data": {
      "image/png": "[encoded data removed]",
      "text/plain": [
       "<Figure size 1080x576 with 1 Axes>"
      ]
     },
     "metadata": {
      "needs_background": "light"
     },
     "output_type": "display_data"
    }
   ],
   "source": [
    "plt.figure(figsize=(15,8))\n",
    "a=sns.barplot(x = kiva.country.value_counts().head(20).index,y=kiva.country.value_counts().head(20).values,palette='viridis')\n",
    "plt.xticks(fontsize=9)\n",
    "sns.despine(top=True, right=True, left=True, bottom=True, offset=None, trim=False)\n",
    "a.set_title('Countries with most loans',fontsize=16);"
   ]
  },
  {
   "cell_type": "code",
   "execution_count": 49,
   "metadata": {},
   "outputs": [],
   "source": [
    "l0 = kiva.groupby(['country'])['loan_amount'].sum().sort_values(ascending = False).head(15)\n",
    "f0 = kiva.groupby(['country'])['funded_amount'].sum().sort_values(ascending = False).head(15)"
   ]
  },
  {
   "cell_type": "code",
   "execution_count": 58,
   "metadata": {},
   "outputs": [
    {
     "data": {
      "image/png": "[encoded data removed]",
      "text/plain": [
       "<Figure size 1080x864 with 2 Axes>"
      ]
     },
     "metadata": {
      "needs_background": "light"
     },
     "output_type": "display_data"
    }
   ],
   "source": [
    "from matplotlib.ticker import ScalarFormatter, FormatStrFormatter\n",
    "fig, ax = plt.subplots(2,1,figsize=(15,12),sharex=True)\n",
    "ax1 = sns.barplot(y = l0.index,x=l0.values,ax=ax[0],palette=['#c55572'],orient='h')\n",
    "sns.despine(left=True, bottom=True)\n",
    "ax2 = sns.barplot(y = f0.index,x=f0.values,ax=ax[1],palette=['#b3b7b8'],orient='h')\n",
    "ax1.set_title('Loans Amount')\n",
    "ax2.set_title('Found Amount')\n",
    "ax1.set_ylabel('')\n",
    "ax1.xaxis.set_major_formatter(FormatStrFormatter('%.0f'))\n",
    "ax2.xaxis.set_major_formatter(FormatStrFormatter('%.0f'))\n",
    "plt.xlabel('')\n",
    "plt.ylabel('')\n",
    "sns.despine(left=True, bottom=True);"
   ]
  },
  {
   "cell_type": "code",
   "execution_count": 92,
   "metadata": {},
   "outputs": [],
   "source": [
    "l0f0 = kiva.groupby(['country'])['loan_amount','funded_amount'].sum().sort_values(by='funded_amount',ascending = False).head(15).reset_index()\n",
    "l0f0_tidy = l0f0.melt(id_vars='country')"
   ]
  },
  {
   "cell_type": "code",
   "execution_count": 99,
   "metadata": {},
   "outputs": [
    {
     "data": {
      "image/png": "[encoded data removed]",
      "text/plain": [
       "<Figure size 1080x576 with 1 Axes>"
      ]
     },
     "metadata": {
      "needs_background": "light"
     },
     "output_type": "display_data"
    }
   ],
   "source": [
    "plt.figure(figsize=(15,8))\n",
    "b = sns.barplot(y='value',x='country',hue='variable',data=l0f0_tidy,palette=['#0B486B','#79BD9A','#B5838D'])\n",
    "plt.xticks(fontsize=9)\n",
    "sns.despine(top=True, right=True, left=True, bottom=True, offset=None, trim=False)\n",
    "b.yaxis.set_major_formatter(FormatStrFormatter('%.0f'))"
   ]
  },
  {
   "cell_type": "code",
   "execution_count": null,
   "metadata": {},
   "outputs": [],
   "source": []
  }
 ],
 "metadata": {
  "kernelspec": {
   "display_name": "Python 3",
   "language": "python",
   "name": "python3"
  },
  "language_info": {
   "codemirror_mode": {
    "name": "ipython",
    "version": 3
   },
   "file_extension": ".py",
   "mimetype": "text/x-python",
   "name": "python",
   "nbconvert_exporter": "python",
   "pygments_lexer": "ipython3",
   "version": "3.7.1"
  }
 },
 "nbformat": 4,
 "nbformat_minor": 2
}
